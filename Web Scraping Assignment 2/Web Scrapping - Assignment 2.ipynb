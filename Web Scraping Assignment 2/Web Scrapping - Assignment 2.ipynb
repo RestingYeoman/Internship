{
 "cells": [
  {
   "cell_type": "code",
   "execution_count": 1,
   "metadata": {},
   "outputs": [],
   "source": [
    "import selenium\n",
    "import pandas as pd\n",
    "import time\n",
    "\n",
    "from selenium import webdriver"
   ]
  },
  {
   "cell_type": "code",
   "execution_count": 2,
   "metadata": {},
   "outputs": [],
   "source": [
    "# activating the chrome browser\n",
    "driver = webdriver.Chrome('chromedriver.exe')"
   ]
  },
  {
   "cell_type": "markdown",
   "metadata": {},
   "source": [
    "# Write a python program to scrape data for “Data Analyst” Job position in “Bangalore” location. You have to scrape the job-title, job-location, company_name, experience_required. You have to scrape first 10 jobs data."
   ]
  },
  {
   "cell_type": "code",
   "execution_count": 28,
   "metadata": {},
   "outputs": [],
   "source": [
    "# opening the homepage of naukri.com\n",
    "driver.get('https://www.naukri.com')"
   ]
  },
  {
   "cell_type": "code",
   "execution_count": 29,
   "metadata": {},
   "outputs": [
    {
     "name": "stdout",
     "output_type": "stream",
     "text": [
      "Enter the post name: Data Scientist\n",
      "Enter location: Bangalore\n"
     ]
    }
   ],
   "source": [
    "# passing post name\n",
    "search_inp = input('Enter the post name: ')\n",
    "search_bar = driver.find_element_by_xpath(\"//div[@class='inpWrap']/input\")\n",
    "search_bar.clear()\n",
    "search_bar.send_keys(search_inp)\n",
    "\n",
    "# passing location\n",
    "loc_inp = input('Enter location: ')\n",
    "loc_bar = driver.find_element_by_id('qsb-location-sugg')\n",
    "loc_bar.clear()\n",
    "loc_bar.send_keys(loc_inp)\n",
    "time.sleep(4)\n",
    "\n",
    "# searching\n",
    "search_btn = driver.find_element_by_xpath(\"//div[@class='search-btn']/button\")\n",
    "search_btn.click()"
   ]
  },
  {
   "cell_type": "code",
   "execution_count": 30,
   "metadata": {},
   "outputs": [],
   "source": [
    "job_title = []\n",
    "job_loc = []\n",
    "comp_name = []\n",
    "expr = []"
   ]
  },
  {
   "cell_type": "code",
   "execution_count": 35,
   "metadata": {},
   "outputs": [],
   "source": [
    "# extracting job title\n",
    "for i in driver.find_elements_by_xpath(\"//a[@class='title fw500 ellipsis']\"):\n",
    "    if len(job_title) == 10:\n",
    "        break\n",
    "    else:\n",
    "        job_title.append(i.text)\n",
    "\n",
    "# extracting job location\n",
    "for j in driver.find_elements_by_xpath(\"//li[@class='fleft grey-text br2 placeHolderLi location']/span\"):\n",
    "    if len(job_loc) == 10:\n",
    "        break\n",
    "    else:\n",
    "        job_loc.append(j.text)\n",
    "\n",
    "# extracting company name\n",
    "for k in driver.find_elements_by_xpath(\"//a[@class='subTitle ellipsis fleft']\"):\n",
    "    if len(comp_name) == 10:\n",
    "        break\n",
    "    else:\n",
    "        comp_name.append(k.text)\n",
    "\n",
    "# extracting experirncr required\n",
    "for l in driver.find_elements_by_xpath(\"//li[@class='fleft grey-text br2 placeHolderLi experience']/span\"):\n",
    "    if len(expr) == 10:\n",
    "        break\n",
    "    else:\n",
    "        expr.append(l.text)"
   ]
  },
  {
   "cell_type": "code",
   "execution_count": 36,
   "metadata": {},
   "outputs": [
    {
     "name": "stdout",
     "output_type": "stream",
     "text": [
      "10 10 10 10\n"
     ]
    }
   ],
   "source": [
    "print(len(job_title), len(job_loc), len(comp_name), len(expr))"
   ]
  },
  {
   "cell_type": "code",
   "execution_count": 37,
   "metadata": {},
   "outputs": [],
   "source": [
    "Jobs = pd.DataFrame({})\n",
    "Jobs['title'] = job_title\n",
    "Jobs['company'] = comp_name\n",
    "Jobs['location'] = job_loc\n",
    "Jobs['experience'] = expr"
   ]
  },
  {
   "cell_type": "code",
   "execution_count": 38,
   "metadata": {},
   "outputs": [
    {
     "data": {
      "text/html": [
       "<div>\n",
       "<style scoped>\n",
       "    .dataframe tbody tr th:only-of-type {\n",
       "        vertical-align: middle;\n",
       "    }\n",
       "\n",
       "    .dataframe tbody tr th {\n",
       "        vertical-align: top;\n",
       "    }\n",
       "\n",
       "    .dataframe thead th {\n",
       "        text-align: right;\n",
       "    }\n",
       "</style>\n",
       "<table border=\"1\" class=\"dataframe\">\n",
       "  <thead>\n",
       "    <tr style=\"text-align: right;\">\n",
       "      <th></th>\n",
       "      <th>title</th>\n",
       "      <th>company</th>\n",
       "      <th>location</th>\n",
       "      <th>experience</th>\n",
       "    </tr>\n",
       "  </thead>\n",
       "  <tbody>\n",
       "    <tr>\n",
       "      <th>0</th>\n",
       "      <td>Data Scientist / Data Analyst -Business Analyst</td>\n",
       "      <td>Inflexion Analytix Private Limited</td>\n",
       "      <td>Mumbai, Hyderabad/Secunderabad, Pune, Gurgaon/...</td>\n",
       "      <td>0-3 Yrs</td>\n",
       "    </tr>\n",
       "    <tr>\n",
       "      <th>1</th>\n",
       "      <td>Senior Data Scientist | CES IT LTD | CMMI Level 5</td>\n",
       "      <td>CES Ltd.</td>\n",
       "      <td>Kolkata, Mumbai, Hyderabad/Secunderabad, Pune,...</td>\n",
       "      <td>2-7 Yrs</td>\n",
       "    </tr>\n",
       "    <tr>\n",
       "      <th>2</th>\n",
       "      <td>Senior Data Scientist | CES IT LTD | CMMI Level 5</td>\n",
       "      <td>CES Ltd.</td>\n",
       "      <td>Kolkata, Mumbai, Hyderabad/Secunderabad, Pune,...</td>\n",
       "      <td>2-7 Yrs</td>\n",
       "    </tr>\n",
       "    <tr>\n",
       "      <th>3</th>\n",
       "      <td>Analytics &amp; AI Product Mgmt - Sr. Data Scientist</td>\n",
       "      <td>GlaxoSmithKline Pharmaceuticals Limited</td>\n",
       "      <td>Bangalore/Bengaluru</td>\n",
       "      <td>10-12 Yrs</td>\n",
       "    </tr>\n",
       "    <tr>\n",
       "      <th>4</th>\n",
       "      <td>Senior Data Scientist</td>\n",
       "      <td>Vijaya Management Services</td>\n",
       "      <td>Pune, Chennai, Bangalore/Bengaluru</td>\n",
       "      <td>5-10 Yrs</td>\n",
       "    </tr>\n",
       "    <tr>\n",
       "      <th>5</th>\n",
       "      <td>Senior Data Scientist, Modeling</td>\n",
       "      <td>Nielsen</td>\n",
       "      <td>Kolkata, Gurgaon/Gurugram, Bangalore/Bengaluru...</td>\n",
       "      <td>3-7 Yrs</td>\n",
       "    </tr>\n",
       "    <tr>\n",
       "      <th>6</th>\n",
       "      <td>Data Scientist - IBM Garage</td>\n",
       "      <td>IBM India Pvt. Limited</td>\n",
       "      <td>Noida, Hyderabad/Secunderabad, Bangalore/Benga...</td>\n",
       "      <td>5-8 Yrs</td>\n",
       "    </tr>\n",
       "    <tr>\n",
       "      <th>7</th>\n",
       "      <td>Data Scientist</td>\n",
       "      <td>IBM India Pvt. Limited</td>\n",
       "      <td>Noida, Hyderabad/Secunderabad, Bangalore/Benga...</td>\n",
       "      <td>4-9 Yrs</td>\n",
       "    </tr>\n",
       "    <tr>\n",
       "      <th>8</th>\n",
       "      <td>Data Scientist</td>\n",
       "      <td>IBM India Pvt. Limited</td>\n",
       "      <td>Noida, Hyderabad/Secunderabad, Bangalore/Benga...</td>\n",
       "      <td>5-8 Yrs</td>\n",
       "    </tr>\n",
       "    <tr>\n",
       "      <th>9</th>\n",
       "      <td>Senior Data Scientist - Credit risk</td>\n",
       "      <td>Scienaptic Systems</td>\n",
       "      <td>Bangalore/Bengaluru</td>\n",
       "      <td>5-10 Yrs</td>\n",
       "    </tr>\n",
       "  </tbody>\n",
       "</table>\n",
       "</div>"
      ],
      "text/plain": [
       "                                               title  \\\n",
       "0    Data Scientist / Data Analyst -Business Analyst   \n",
       "1  Senior Data Scientist | CES IT LTD | CMMI Level 5   \n",
       "2  Senior Data Scientist | CES IT LTD | CMMI Level 5   \n",
       "3   Analytics & AI Product Mgmt - Sr. Data Scientist   \n",
       "4                              Senior Data Scientist   \n",
       "5                    Senior Data Scientist, Modeling   \n",
       "6                        Data Scientist - IBM Garage   \n",
       "7                                     Data Scientist   \n",
       "8                                     Data Scientist   \n",
       "9                Senior Data Scientist - Credit risk   \n",
       "\n",
       "                                   company  \\\n",
       "0       Inflexion Analytix Private Limited   \n",
       "1                                 CES Ltd.   \n",
       "2                                 CES Ltd.   \n",
       "3  GlaxoSmithKline Pharmaceuticals Limited   \n",
       "4               Vijaya Management Services   \n",
       "5                                  Nielsen   \n",
       "6                   IBM India Pvt. Limited   \n",
       "7                   IBM India Pvt. Limited   \n",
       "8                   IBM India Pvt. Limited   \n",
       "9                       Scienaptic Systems   \n",
       "\n",
       "                                            location experience  \n",
       "0  Mumbai, Hyderabad/Secunderabad, Pune, Gurgaon/...    0-3 Yrs  \n",
       "1  Kolkata, Mumbai, Hyderabad/Secunderabad, Pune,...    2-7 Yrs  \n",
       "2  Kolkata, Mumbai, Hyderabad/Secunderabad, Pune,...    2-7 Yrs  \n",
       "3                                Bangalore/Bengaluru  10-12 Yrs  \n",
       "4                 Pune, Chennai, Bangalore/Bengaluru   5-10 Yrs  \n",
       "5  Kolkata, Gurgaon/Gurugram, Bangalore/Bengaluru...    3-7 Yrs  \n",
       "6  Noida, Hyderabad/Secunderabad, Bangalore/Benga...    5-8 Yrs  \n",
       "7  Noida, Hyderabad/Secunderabad, Bangalore/Benga...    4-9 Yrs  \n",
       "8  Noida, Hyderabad/Secunderabad, Bangalore/Benga...    5-8 Yrs  \n",
       "9                                Bangalore/Bengaluru   5-10 Yrs  "
      ]
     },
     "execution_count": 38,
     "metadata": {},
     "output_type": "execute_result"
    }
   ],
   "source": [
    "Jobs"
   ]
  },
  {
   "cell_type": "markdown",
   "metadata": {},
   "source": [
    "# Write a python program to scrape data for “Data Scientist” Job position in “Bangalore” location. You have to scrape the job-title, job-location, company_name, full job-description. You have to scrape first 10 jobs data."
   ]
  },
  {
   "cell_type": "code",
   "execution_count": 3,
   "metadata": {},
   "outputs": [],
   "source": [
    "# opening the homepage of naukri.com/\n",
    "driver.get('https://www.naukri.com')"
   ]
  },
  {
   "cell_type": "code",
   "execution_count": 4,
   "metadata": {},
   "outputs": [
    {
     "name": "stdout",
     "output_type": "stream",
     "text": [
      "Enter the post name: Data Scientist\n",
      "Enter location: Bangalore\n"
     ]
    }
   ],
   "source": [
    "# passing post name\n",
    "search_inp = input('Enter the post name: ')\n",
    "search_bar = driver.find_element_by_xpath(\"//div[@class='inpWrap']/input\")\n",
    "search_bar.clear()\n",
    "search_bar.send_keys(search_inp)\n",
    "\n",
    "# passing location\n",
    "loc_inp = input('Enter location: ')\n",
    "loc_bar = driver.find_element_by_id('qsb-location-sugg')\n",
    "loc_bar.clear()\n",
    "loc_bar.send_keys(loc_inp)\n",
    "time.sleep(4)\n",
    "\n",
    "# searching\n",
    "search_btn = driver.find_element_by_xpath(\"//div[@class='search-btn']/button\")\n",
    "search_btn.click()"
   ]
  },
  {
   "cell_type": "code",
   "execution_count": 5,
   "metadata": {},
   "outputs": [],
   "source": [
    "job_title = []\n",
    "job_loc = []\n",
    "comp_name = []\n",
    "desc = []\n",
    "url = []"
   ]
  },
  {
   "cell_type": "code",
   "execution_count": 6,
   "metadata": {},
   "outputs": [
    {
     "ename": "AttributeError",
     "evalue": "'str' object has no attribute 'text'",
     "output_type": "error",
     "traceback": [
      "\u001b[1;31m---------------------------------------------------------------------------\u001b[0m",
      "\u001b[1;31mAttributeError\u001b[0m                            Traceback (most recent call last)",
      "\u001b[1;32m<ipython-input-6-40e8ef2e768e>\u001b[0m in \u001b[0;36m<module>\u001b[1;34m\u001b[0m\n\u001b[0;32m     34\u001b[0m     \u001b[0mb\u001b[0m \u001b[1;33m=\u001b[0m \u001b[1;34m\"//div[@class='clearboth description']\"\u001b[0m\u001b[1;33m\u001b[0m\u001b[1;33m\u001b[0m\u001b[0m\n\u001b[0;32m     35\u001b[0m     \u001b[1;32mif\u001b[0m \u001b[0mdriver\u001b[0m\u001b[1;33m.\u001b[0m\u001b[0mfind_element_by_xpath\u001b[0m\u001b[1;33m(\u001b[0m\u001b[0ma\u001b[0m\u001b[1;33m)\u001b[0m\u001b[1;33m:\u001b[0m\u001b[1;33m\u001b[0m\u001b[1;33m\u001b[0m\u001b[0m\n\u001b[1;32m---> 36\u001b[1;33m         \u001b[0mdesc\u001b[0m\u001b[1;33m.\u001b[0m\u001b[0mappend\u001b[0m\u001b[1;33m(\u001b[0m\u001b[0ma\u001b[0m\u001b[1;33m.\u001b[0m\u001b[0mtext\u001b[0m\u001b[1;33m)\u001b[0m\u001b[1;33m\u001b[0m\u001b[1;33m\u001b[0m\u001b[0m\n\u001b[0m\u001b[0;32m     37\u001b[0m     \u001b[1;32melse\u001b[0m\u001b[1;33m:\u001b[0m\u001b[1;33m\u001b[0m\u001b[1;33m\u001b[0m\u001b[0m\n\u001b[0;32m     38\u001b[0m         \u001b[0mdriver\u001b[0m\u001b[1;33m.\u001b[0m\u001b[0mfind_element_by_xpath\u001b[0m\u001b[1;33m(\u001b[0m\u001b[0mb\u001b[0m\u001b[1;33m)\u001b[0m\u001b[1;33m\u001b[0m\u001b[1;33m\u001b[0m\u001b[0m\n",
      "\u001b[1;31mAttributeError\u001b[0m: 'str' object has no attribute 'text'"
     ]
    }
   ],
   "source": [
    "# extracting job title\n",
    "for i in driver.find_elements_by_xpath(\"//a[@class='title fw500 ellipsis']\"):\n",
    "    if len(job_title) == 10:\n",
    "        break\n",
    "    else:\n",
    "        job_title.append(i.text)\n",
    "\n",
    "# extracting job location\n",
    "for j in driver.find_elements_by_xpath(\"//li[@class='fleft grey-text br2 placeHolderLi location']/span\"):\n",
    "    if len(job_loc) == 10:\n",
    "        break\n",
    "    else:\n",
    "        job_loc.append(j.text)\n",
    "\n",
    "# extracting company name\n",
    "for k in driver.find_elements_by_xpath(\"//a[@class='subTitle ellipsis fleft']\"):\n",
    "    if len(comp_name) == 10:\n",
    "        break\n",
    "    else:\n",
    "        comp_name.append(k.text)\n",
    "\n",
    "# storing url of description page\n",
    "for l in driver.find_elements_by_xpath(\"//div[@class='info fleft']/a\"):\n",
    "    if len(url) == 10:\n",
    "        break\n",
    "    else:\n",
    "        url.append(l.get_attribute('href'))\n",
    "\n",
    "# extracting description required\n",
    "for i in range(len(url)):\n",
    "    page_url = url[i]\n",
    "    driver.get(page_url)\n",
    "    a = \"//div[@class='dang-inner-html']\"\n",
    "    b = \"//div[@class='clearboth description']\"\n",
    "    if driver.find_element_by_xpath(a):\n",
    "        desc.append(a.text)\n",
    "    else:\n",
    "        driver.find_element_by_xpath(b)\n",
    "        desc.append(b.text)"
   ]
  },
  {
   "cell_type": "markdown",
   "metadata": {},
   "source": [
    "# Scraping data from naukri.com using filters"
   ]
  },
  {
   "cell_type": "markdown",
   "metadata": {},
   "source": [
    "The location filter to be used is 'Delhi/NCR'"
   ]
  },
  {
   "cell_type": "markdown",
   "metadata": {},
   "source": [
    "The salary filter to be used is '3-6' lakhs"
   ]
  },
  {
   "cell_type": "code",
   "execution_count": 98,
   "metadata": {},
   "outputs": [],
   "source": [
    "driver.get('https://www.naukri.com')"
   ]
  },
  {
   "cell_type": "code",
   "execution_count": 99,
   "metadata": {},
   "outputs": [
    {
     "name": "stdout",
     "output_type": "stream",
     "text": [
      "Enter the post name: Data Scientist\n"
     ]
    }
   ],
   "source": [
    "# passing post name\n",
    "search_inp = input('Enter the post name: ')\n",
    "search_bar = driver.find_element_by_xpath(\"//div[@class='inpWrap']/input\")\n",
    "search_bar.clear()\n",
    "search_bar.send_keys(search_inp)\n",
    "\n",
    "# searching\n",
    "search_btn = driver.find_element_by_xpath(\"//div[@class='search-btn']/button\")\n",
    "search_btn.click()"
   ]
  },
  {
   "cell_type": "code",
   "execution_count": 111,
   "metadata": {},
   "outputs": [],
   "source": [
    "# getting location filters\n",
    "\n",
    "loc_fltr = driver.find_element_by_xpath(\"//span[@title='Delhi / NCR']\")\n",
    "loc_fltr.click()"
   ]
  },
  {
   "cell_type": "code",
   "execution_count": 112,
   "metadata": {},
   "outputs": [],
   "source": [
    "# getting salary filter\n",
    "sal_fltr = driver.find_element_by_xpath(\"//span[@title='3-6 Lakhs']\")\n",
    "sal_fltr.click()"
   ]
  },
  {
   "cell_type": "code",
   "execution_count": 113,
   "metadata": {},
   "outputs": [],
   "source": [
    "job_title = []\n",
    "job_loc = []\n",
    "comp_name = []\n",
    "expr = []"
   ]
  },
  {
   "cell_type": "code",
   "execution_count": 114,
   "metadata": {},
   "outputs": [],
   "source": [
    "# extracting job title\n",
    "for i in driver.find_elements_by_xpath(\"//a[@class='title fw500 ellipsis']\"):\n",
    "    if len(job_title) == 10:\n",
    "        break\n",
    "    else:\n",
    "        job_title.append(i.text)\n",
    "\n",
    "# extracting job location\n",
    "for j in driver.find_elements_by_xpath(\"//li[@class='fleft grey-text br2 placeHolderLi location']/span\"):\n",
    "    if len(job_loc) == 10:\n",
    "        break\n",
    "    else:\n",
    "        job_loc.append(j.text)\n",
    "\n",
    "# extracting company name\n",
    "for k in driver.find_elements_by_xpath(\"//a[@class='subTitle ellipsis fleft']\"):\n",
    "    if len(comp_name) == 10:\n",
    "        break\n",
    "    else:\n",
    "        comp_name.append(k.text)\n",
    "\n",
    "# extracting experirncr required\n",
    "for l in driver.find_elements_by_xpath(\"//li[@class='fleft grey-text br2 placeHolderLi experience']/span\"):\n",
    "    if len(expr) == 10:\n",
    "        break\n",
    "    else:\n",
    "        expr.append(l.text)"
   ]
  },
  {
   "cell_type": "code",
   "execution_count": 115,
   "metadata": {},
   "outputs": [
    {
     "data": {
      "text/html": [
       "<div>\n",
       "<style scoped>\n",
       "    .dataframe tbody tr th:only-of-type {\n",
       "        vertical-align: middle;\n",
       "    }\n",
       "\n",
       "    .dataframe tbody tr th {\n",
       "        vertical-align: top;\n",
       "    }\n",
       "\n",
       "    .dataframe thead th {\n",
       "        text-align: right;\n",
       "    }\n",
       "</style>\n",
       "<table border=\"1\" class=\"dataframe\">\n",
       "  <thead>\n",
       "    <tr style=\"text-align: right;\">\n",
       "      <th></th>\n",
       "      <th>title</th>\n",
       "      <th>location</th>\n",
       "      <th>company</th>\n",
       "      <th>experience</th>\n",
       "    </tr>\n",
       "  </thead>\n",
       "  <tbody>\n",
       "    <tr>\n",
       "      <th>0</th>\n",
       "      <td>Data Scientist / Data Analyst -Business Analyst</td>\n",
       "      <td>Mumbai, Hyderabad/Secunderabad, Pune, Gurgaon/...</td>\n",
       "      <td>Inflexion Analytix Private Limited</td>\n",
       "      <td>0-3 Yrs</td>\n",
       "    </tr>\n",
       "    <tr>\n",
       "      <th>1</th>\n",
       "      <td>Data Scientist</td>\n",
       "      <td>Noida, Hyderabad/Secunderabad, Bangalore/Benga...</td>\n",
       "      <td>IBM India Pvt. Limited</td>\n",
       "      <td>4-9 Yrs</td>\n",
       "    </tr>\n",
       "    <tr>\n",
       "      <th>2</th>\n",
       "      <td>Senior Data Scientist II 5+ yrs II Gurgaon</td>\n",
       "      <td>Gurgaon/Gurugram</td>\n",
       "      <td>Zenatix Solutions Private Limited</td>\n",
       "      <td>5-10 Yrs</td>\n",
       "    </tr>\n",
       "    <tr>\n",
       "      <th>3</th>\n",
       "      <td>Excellent opportunity For Data Scientist</td>\n",
       "      <td>Noida, Bangalore/Bengaluru</td>\n",
       "      <td>NEC CORPORATION INDIA PRIVATE LIMITED</td>\n",
       "      <td>3-7 Yrs</td>\n",
       "    </tr>\n",
       "    <tr>\n",
       "      <th>4</th>\n",
       "      <td>Data Scientist</td>\n",
       "      <td>New Delhi, Gurgaon/Gurugram, Delhi / NCR</td>\n",
       "      <td>Mobikwik</td>\n",
       "      <td>3-5 Yrs</td>\n",
       "    </tr>\n",
       "    <tr>\n",
       "      <th>5</th>\n",
       "      <td>DATA Scientist – Gurgaon (Exp 3-6 years)</td>\n",
       "      <td>Gurgaon/Gurugram, Delhi / NCR</td>\n",
       "      <td>CRESCENDO GLOBAL LEADERSHIP HIRING INDIA PRIVA...</td>\n",
       "      <td>3-6 Yrs</td>\n",
       "    </tr>\n",
       "    <tr>\n",
       "      <th>6</th>\n",
       "      <td>DATA Scientist – Gurgaon (Exp 3-6 years)</td>\n",
       "      <td>Gurgaon/Gurugram, Delhi / NCR</td>\n",
       "      <td>CRESCENDO GLOBAL LEADERSHIP HIRING INDIA PRIVA...</td>\n",
       "      <td>3-6 Yrs</td>\n",
       "    </tr>\n",
       "    <tr>\n",
       "      <th>7</th>\n",
       "      <td>Data Scientist - Noida</td>\n",
       "      <td>Noida</td>\n",
       "      <td>Optum Global Solutions (India) Private Limited</td>\n",
       "      <td>3-5 Yrs</td>\n",
       "    </tr>\n",
       "    <tr>\n",
       "      <th>8</th>\n",
       "      <td>Data Scientist - Noida/ B'lore</td>\n",
       "      <td>Noida, Bangalore/Bengaluru</td>\n",
       "      <td>NEC CORPORATION INDIA PRIVATE LIMITED</td>\n",
       "      <td>3-8 Yrs</td>\n",
       "    </tr>\n",
       "    <tr>\n",
       "      <th>9</th>\n",
       "      <td>Data Scientist</td>\n",
       "      <td>Bangalore/Bengaluru, Delhi / NCR, Mumbai (All ...</td>\n",
       "      <td>Cloudstrats Technologies Private Limited</td>\n",
       "      <td>5-8 Yrs</td>\n",
       "    </tr>\n",
       "  </tbody>\n",
       "</table>\n",
       "</div>"
      ],
      "text/plain": [
       "                                             title  \\\n",
       "0  Data Scientist / Data Analyst -Business Analyst   \n",
       "1                                   Data Scientist   \n",
       "2       Senior Data Scientist II 5+ yrs II Gurgaon   \n",
       "3         Excellent opportunity For Data Scientist   \n",
       "4                                   Data Scientist   \n",
       "5         DATA Scientist – Gurgaon (Exp 3-6 years)   \n",
       "6         DATA Scientist – Gurgaon (Exp 3-6 years)   \n",
       "7                           Data Scientist - Noida   \n",
       "8                   Data Scientist - Noida/ B'lore   \n",
       "9                                   Data Scientist   \n",
       "\n",
       "                                            location  \\\n",
       "0  Mumbai, Hyderabad/Secunderabad, Pune, Gurgaon/...   \n",
       "1  Noida, Hyderabad/Secunderabad, Bangalore/Benga...   \n",
       "2                                   Gurgaon/Gurugram   \n",
       "3                         Noida, Bangalore/Bengaluru   \n",
       "4           New Delhi, Gurgaon/Gurugram, Delhi / NCR   \n",
       "5                      Gurgaon/Gurugram, Delhi / NCR   \n",
       "6                      Gurgaon/Gurugram, Delhi / NCR   \n",
       "7                                              Noida   \n",
       "8                         Noida, Bangalore/Bengaluru   \n",
       "9  Bangalore/Bengaluru, Delhi / NCR, Mumbai (All ...   \n",
       "\n",
       "                                             company experience  \n",
       "0                 Inflexion Analytix Private Limited    0-3 Yrs  \n",
       "1                             IBM India Pvt. Limited    4-9 Yrs  \n",
       "2                  Zenatix Solutions Private Limited   5-10 Yrs  \n",
       "3              NEC CORPORATION INDIA PRIVATE LIMITED    3-7 Yrs  \n",
       "4                                           Mobikwik    3-5 Yrs  \n",
       "5  CRESCENDO GLOBAL LEADERSHIP HIRING INDIA PRIVA...    3-6 Yrs  \n",
       "6  CRESCENDO GLOBAL LEADERSHIP HIRING INDIA PRIVA...    3-6 Yrs  \n",
       "7     Optum Global Solutions (India) Private Limited    3-5 Yrs  \n",
       "8              NEC CORPORATION INDIA PRIVATE LIMITED    3-8 Yrs  \n",
       "9           Cloudstrats Technologies Private Limited    5-8 Yrs  "
      ]
     },
     "execution_count": 115,
     "metadata": {},
     "output_type": "execute_result"
    }
   ],
   "source": [
    "jobs = pd.DataFrame({})\n",
    "jobs['title'] = job_title\n",
    "jobs['location'] = job_loc\n",
    "jobs['company'] = comp_name\n",
    "jobs['experience'] = expr\n",
    "jobs"
   ]
  },
  {
   "cell_type": "markdown",
   "metadata": {},
   "source": [
    "# Write a python program to scrape data for first 10 job results for Data scientist Designation in Noida location. You have to scrape company_name, No. of days ago when job was posted, Rating of the company."
   ]
  },
  {
   "cell_type": "code",
   "execution_count": 15,
   "metadata": {},
   "outputs": [],
   "source": [
    "driver.get('https://www.glassdoor.co.in/index.htm')"
   ]
  },
  {
   "cell_type": "code",
   "execution_count": 19,
   "metadata": {},
   "outputs": [
    {
     "name": "stdout",
     "output_type": "stream",
     "text": [
      "Enter the post name: Data Scientist\n",
      "Enter location: Noida\n"
     ]
    }
   ],
   "source": [
    "# passing post name\n",
    "search_inp = input('Enter the post name: ')\n",
    "search_bar = driver.find_element_by_id('sc.keyword')\n",
    "search_bar.send_keys(search_inp)\n",
    "\n",
    "# passing location\n",
    "loc_inp = input('Enter location: ')\n",
    "loc_bar = driver.find_element_by_id('sc.location')\n",
    "loc_bar.clear()\n",
    "loc_bar.send_keys(loc_inp)\n",
    "time.sleep(4)\n",
    "\n",
    "# searching\n",
    "search_btn = driver.find_element_by_xpath('//button[@class=\"gd-ui-button ml-std col-auto SearchStyles__newSearchButton css-iixdfr\"]/span')\n",
    "search_btn.click()"
   ]
  },
  {
   "cell_type": "code",
   "execution_count": 78,
   "metadata": {},
   "outputs": [],
   "source": [
    "comp = []\n",
    "days = []\n",
    "rating = []"
   ]
  },
  {
   "cell_type": "code",
   "execution_count": 79,
   "metadata": {},
   "outputs": [],
   "source": [
    "# extracting company name\n",
    "for i in driver.find_elements_by_xpath(\"//a[@class=' css-l2wjgv e1n63ojh0 jobLink']/span\"):\n",
    "    if len(comp) == 10:\n",
    "        break\n",
    "    else:\n",
    "        comp.append(i.text)\n",
    "\n",
    "# extracting days\n",
    "for j in driver.find_elements_by_xpath(\"//div[@class='d-flex align-items-end pl-std css-mi55ob']\"):\n",
    "    if len(days) == 10:\n",
    "        break\n",
    "    else:\n",
    "        days.append(j.text)\n",
    "\n",
    "# extracting rating\n",
    "for k in driver.find_elements_by_xpath(\"//span[@class='css-19pjha7 e1cjmv6j1']\"):\n",
    "    if len(rating) == 10:\n",
    "        break\n",
    "    else:\n",
    "        rating.append(k.text)"
   ]
  },
  {
   "cell_type": "code",
   "execution_count": 80,
   "metadata": {},
   "outputs": [],
   "source": [
    "glassdoor = pd.DataFrame({})\n",
    "glassdoor['Company Name'] = comp\n",
    "glassdoor['Days Ago'] = days\n",
    "glassdoor['Rating'] = rating"
   ]
  },
  {
   "cell_type": "code",
   "execution_count": 81,
   "metadata": {},
   "outputs": [
    {
     "data": {
      "text/plain": [
       "10"
      ]
     },
     "execution_count": 81,
     "metadata": {},
     "output_type": "execute_result"
    }
   ],
   "source": [
    "len(comp)"
   ]
  },
  {
   "cell_type": "code",
   "execution_count": 82,
   "metadata": {},
   "outputs": [
    {
     "data": {
      "text/html": [
       "<div>\n",
       "<style scoped>\n",
       "    .dataframe tbody tr th:only-of-type {\n",
       "        vertical-align: middle;\n",
       "    }\n",
       "\n",
       "    .dataframe tbody tr th {\n",
       "        vertical-align: top;\n",
       "    }\n",
       "\n",
       "    .dataframe thead th {\n",
       "        text-align: right;\n",
       "    }\n",
       "</style>\n",
       "<table border=\"1\" class=\"dataframe\">\n",
       "  <thead>\n",
       "    <tr style=\"text-align: right;\">\n",
       "      <th></th>\n",
       "      <th>Company Name</th>\n",
       "      <th>Days Ago</th>\n",
       "      <th>Rating</th>\n",
       "    </tr>\n",
       "  </thead>\n",
       "  <tbody>\n",
       "    <tr>\n",
       "      <th>0</th>\n",
       "      <td>Société Générale</td>\n",
       "      <td>11d</td>\n",
       "      <td>3.8</td>\n",
       "    </tr>\n",
       "    <tr>\n",
       "      <th>1</th>\n",
       "      <td>IBM</td>\n",
       "      <td>2d</td>\n",
       "      <td>3.9</td>\n",
       "    </tr>\n",
       "    <tr>\n",
       "      <th>2</th>\n",
       "      <td>Cardinal Health</td>\n",
       "      <td>6d</td>\n",
       "      <td>3.7</td>\n",
       "    </tr>\n",
       "    <tr>\n",
       "      <th>3</th>\n",
       "      <td>IDFC FIRST Bank</td>\n",
       "      <td>5d</td>\n",
       "      <td>3.5</td>\n",
       "    </tr>\n",
       "    <tr>\n",
       "      <th>4</th>\n",
       "      <td>dunnhumby</td>\n",
       "      <td>2d</td>\n",
       "      <td>4.1</td>\n",
       "    </tr>\n",
       "    <tr>\n",
       "      <th>5</th>\n",
       "      <td>IDP Education Ltd</td>\n",
       "      <td>1d</td>\n",
       "      <td>4.1</td>\n",
       "    </tr>\n",
       "    <tr>\n",
       "      <th>6</th>\n",
       "      <td>Daimler</td>\n",
       "      <td>7d</td>\n",
       "      <td>4.1</td>\n",
       "    </tr>\n",
       "    <tr>\n",
       "      <th>7</th>\n",
       "      <td>Marktine Technology Solutions</td>\n",
       "      <td>8d</td>\n",
       "      <td>4.0</td>\n",
       "    </tr>\n",
       "    <tr>\n",
       "      <th>8</th>\n",
       "      <td>Mondelēz International</td>\n",
       "      <td>6d</td>\n",
       "      <td>3.4</td>\n",
       "    </tr>\n",
       "    <tr>\n",
       "      <th>9</th>\n",
       "      <td>ArrayGen Technologies</td>\n",
       "      <td>17d</td>\n",
       "      <td>3.6</td>\n",
       "    </tr>\n",
       "  </tbody>\n",
       "</table>\n",
       "</div>"
      ],
      "text/plain": [
       "                    Company Name Days Ago Rating\n",
       "0               Société Générale      11d    3.8\n",
       "1                            IBM       2d    3.9\n",
       "2                Cardinal Health       6d    3.7\n",
       "3                IDFC FIRST Bank       5d    3.5\n",
       "4                      dunnhumby       2d    4.1\n",
       "5              IDP Education Ltd       1d    4.1\n",
       "6                        Daimler       7d    4.1\n",
       "7  Marktine Technology Solutions       8d    4.0\n",
       "8         Mondelēz International       6d    3.4\n",
       "9          ArrayGen Technologies      17d    3.6"
      ]
     },
     "execution_count": 82,
     "metadata": {},
     "output_type": "execute_result"
    }
   ],
   "source": [
    "glassdoor"
   ]
  },
  {
   "cell_type": "markdown",
   "metadata": {},
   "source": [
    "# Write a python program to scrape the salary data for Data Scientist designation in Noida location. You have to scrape Company name, Number of salaries, Average salary, Min salary, Max Salary."
   ]
  },
  {
   "cell_type": "code",
   "execution_count": 87,
   "metadata": {},
   "outputs": [],
   "source": [
    "driver.get('https://www.glassdoor.co.in/Salaries/index.htm')"
   ]
  },
  {
   "cell_type": "code",
   "execution_count": 88,
   "metadata": {},
   "outputs": [
    {
     "name": "stdout",
     "output_type": "stream",
     "text": [
      "Enter the post name: Data Scientist\n",
      "Enter location: Noida\n"
     ]
    }
   ],
   "source": [
    "# passing post name\n",
    "search_inp = input('Enter the post name: ')\n",
    "search_bar = driver.find_element_by_xpath('//input[@name=\"sc.keyword\"]')\n",
    "search_bar.send_keys(search_inp)\n",
    "\n",
    "# passing location\n",
    "loc_inp = input('Enter location: ')\n",
    "loc_bar = driver.find_element_by_xpath('//input[@id=\"LocationSearch\"]')\n",
    "loc_bar.clear()\n",
    "loc_bar.send_keys(loc_inp)\n",
    "time.sleep(4)\n",
    "\n",
    "# searching\n",
    "search_btn = driver.find_element_by_xpath('//button[@id=\"HeroSearchButton\"]')\n",
    "search_btn.click()"
   ]
  },
  {
   "cell_type": "code",
   "execution_count": 106,
   "metadata": {},
   "outputs": [],
   "source": [
    "comp = []\n",
    "min_sal = []\n",
    "max_sal = []\n",
    "avg_sal = []"
   ]
  },
  {
   "cell_type": "code",
   "execution_count": 107,
   "metadata": {},
   "outputs": [],
   "source": [
    "# extracting company name\n",
    "for i in driver.find_elements_by_xpath(\"//p[@class='m-0 ']\"):\n",
    "    if len(comp) == 10:\n",
    "        break\n",
    "    else:\n",
    "        comp.append(i.text)\n",
    "        \n",
    "# extracting Minimum Salary\n",
    "for j in driver.find_elements_by_xpath(\"//div[@class='common__RangeBarStyle__values d-flex justify-content-between ']/span[1]\"):\n",
    "    if len(min_sal) == 10:\n",
    "        break\n",
    "    else:\n",
    "        min_sal.append(j.text)\n",
    "        \n",
    "# extracting Maximum Salary\n",
    "for k in driver.find_elements_by_xpath(\"//div[@class='common__RangeBarStyle__values d-flex justify-content-between ']/span[2]\"):\n",
    "    if len(max_sal) == 10:\n",
    "        break\n",
    "    else:\n",
    "        max_sal.append(k.text)\n",
    "        \n",
    "# extracting Average Salary\n",
    "for l in driver.find_elements_by_xpath(\"//div[@class='col-2 d-none d-md-flex flex-row justify-content-end']/strong\"):\n",
    "    if len(avg_sal) == 10:\n",
    "        break\n",
    "    else:\n",
    "        avg_sal.append(l.text)"
   ]
  },
  {
   "cell_type": "code",
   "execution_count": 110,
   "metadata": {},
   "outputs": [],
   "source": [
    "sal = pd.DataFrame({})\n",
    "sal['Compnay'] = comp\n",
    "sal['Minimum Salary'] = min_sal\n",
    "sal['Maximum Salary'] = max_sal\n",
    "sal['Average Salary'] = avg_sal"
   ]
  },
  {
   "cell_type": "code",
   "execution_count": 111,
   "metadata": {},
   "outputs": [
    {
     "data": {
      "text/html": [
       "<div>\n",
       "<style scoped>\n",
       "    .dataframe tbody tr th:only-of-type {\n",
       "        vertical-align: middle;\n",
       "    }\n",
       "\n",
       "    .dataframe tbody tr th {\n",
       "        vertical-align: top;\n",
       "    }\n",
       "\n",
       "    .dataframe thead th {\n",
       "        text-align: right;\n",
       "    }\n",
       "</style>\n",
       "<table border=\"1\" class=\"dataframe\">\n",
       "  <thead>\n",
       "    <tr style=\"text-align: right;\">\n",
       "      <th></th>\n",
       "      <th>Compnay</th>\n",
       "      <th>Minimum Salary</th>\n",
       "      <th>Maximum Salary</th>\n",
       "      <th>Average Salary</th>\n",
       "    </tr>\n",
       "  </thead>\n",
       "  <tbody>\n",
       "    <tr>\n",
       "      <th>0</th>\n",
       "      <td>Tata Consultancy Services</td>\n",
       "      <td>₹343K</td>\n",
       "      <td>₹1,095K</td>\n",
       "      <td>₹ 6,11,228</td>\n",
       "    </tr>\n",
       "    <tr>\n",
       "      <th>1</th>\n",
       "      <td>Accenture</td>\n",
       "      <td>₹577K</td>\n",
       "      <td>₹2,213K</td>\n",
       "      <td>₹ 11,46,533</td>\n",
       "    </tr>\n",
       "    <tr>\n",
       "      <th>2</th>\n",
       "      <td>IBM</td>\n",
       "      <td>₹586K</td>\n",
       "      <td>₹2,730K</td>\n",
       "      <td>₹ 8,97,795</td>\n",
       "    </tr>\n",
       "    <tr>\n",
       "      <th>3</th>\n",
       "      <td>Ericsson-Worldwide</td>\n",
       "      <td>₹355K</td>\n",
       "      <td>₹1,613K</td>\n",
       "      <td>₹ 7,38,057</td>\n",
       "    </tr>\n",
       "    <tr>\n",
       "      <th>4</th>\n",
       "      <td>Delhivery</td>\n",
       "      <td>₹450K</td>\n",
       "      <td>₹11,622K</td>\n",
       "      <td>₹ 12,39,781</td>\n",
       "    </tr>\n",
       "    <tr>\n",
       "      <th>5</th>\n",
       "      <td>UnitedHealth Group</td>\n",
       "      <td>₹1,069K</td>\n",
       "      <td>₹1,520K</td>\n",
       "      <td>₹ 13,36,142</td>\n",
       "    </tr>\n",
       "    <tr>\n",
       "      <th>6</th>\n",
       "      <td>Valiance Solutions</td>\n",
       "      <td>₹502K</td>\n",
       "      <td>₹1,465K</td>\n",
       "      <td>₹ 8,15,192</td>\n",
       "    </tr>\n",
       "    <tr>\n",
       "      <th>7</th>\n",
       "      <td>ZS Associates</td>\n",
       "      <td>₹202K</td>\n",
       "      <td>₹1,809K</td>\n",
       "      <td>₹ 11,35,221</td>\n",
       "    </tr>\n",
       "    <tr>\n",
       "      <th>8</th>\n",
       "      <td>EXL Service</td>\n",
       "      <td>₹575K</td>\n",
       "      <td>₹1,520K</td>\n",
       "      <td>₹ 11,44,243</td>\n",
       "    </tr>\n",
       "    <tr>\n",
       "      <th>9</th>\n",
       "      <td>Optum Global Solutions</td>\n",
       "      <td>₹1,014K</td>\n",
       "      <td>₹2,149K</td>\n",
       "      <td>₹ 14,13,288</td>\n",
       "    </tr>\n",
       "  </tbody>\n",
       "</table>\n",
       "</div>"
      ],
      "text/plain": [
       "                     Compnay Minimum Salary Maximum Salary Average Salary\n",
       "0  Tata Consultancy Services          ₹343K        ₹1,095K     ₹ 6,11,228\n",
       "1                  Accenture          ₹577K        ₹2,213K    ₹ 11,46,533\n",
       "2                        IBM          ₹586K        ₹2,730K     ₹ 8,97,795\n",
       "3         Ericsson-Worldwide          ₹355K        ₹1,613K     ₹ 7,38,057\n",
       "4                  Delhivery          ₹450K       ₹11,622K    ₹ 12,39,781\n",
       "5         UnitedHealth Group        ₹1,069K        ₹1,520K    ₹ 13,36,142\n",
       "6         Valiance Solutions          ₹502K        ₹1,465K     ₹ 8,15,192\n",
       "7              ZS Associates          ₹202K        ₹1,809K    ₹ 11,35,221\n",
       "8                EXL Service          ₹575K        ₹1,520K    ₹ 11,44,243\n",
       "9     Optum Global Solutions        ₹1,014K        ₹2,149K    ₹ 14,13,288"
      ]
     },
     "execution_count": 111,
     "metadata": {},
     "output_type": "execute_result"
    }
   ],
   "source": [
    "sal"
   ]
  },
  {
   "cell_type": "markdown",
   "metadata": {},
   "source": [
    "# Scrape data of first 100 sunglasses listings on flipkart.com. You have to scrape four attributes: Brand, Product Description, Price, Discount."
   ]
  },
  {
   "cell_type": "code",
   "execution_count": 252,
   "metadata": {},
   "outputs": [],
   "source": [
    "driver.get('https://www.flipkart.com')"
   ]
  },
  {
   "cell_type": "code",
   "execution_count": null,
   "metadata": {},
   "outputs": [],
   "source": [
    "#closing login page\n",
    "closing = driver.find_element_by_xpath(\"//button[@class='_2KpZ6l _2doB4z']\")\n",
    "closing.click()"
   ]
  },
  {
   "cell_type": "code",
   "execution_count": 254,
   "metadata": {},
   "outputs": [
    {
     "name": "stdout",
     "output_type": "stream",
     "text": [
      "Enter the product: sunglasses\n"
     ]
    }
   ],
   "source": [
    "# searching product\n",
    "\n",
    "inp = input(\"Enter the product: \")\n",
    "search = driver.find_element_by_xpath(\"//div[@class='_3OO5Xc']/input\")\n",
    "search.clear()\n",
    "search.send_keys(inp)\n",
    "\n",
    "search_btn = driver.find_element_by_xpath(\"//button[@class='L0Z3Pu']\")\n",
    "search_btn.click()"
   ]
  },
  {
   "cell_type": "code",
   "execution_count": 255,
   "metadata": {},
   "outputs": [],
   "source": [
    "brand = []\n",
    "product_desc = []\n",
    "price = []\n",
    "discount = []\n",
    "urls = []"
   ]
  },
  {
   "cell_type": "code",
   "execution_count": 256,
   "metadata": {},
   "outputs": [],
   "source": [
    "url = driver.find_elements_by_xpath(\"//nav[@class='yFHi8N']/a\")\n",
    "for i in url:\n",
    "    urls.append(i.get_attribute('href'))\n",
    "for i in range(0,3):\n",
    "    driver.get(urls[i])\n",
    "    for m in driver.find_elements_by_xpath(\"//div[@class='_2WkVRV']\"):\n",
    "        if len(brand) == 100:\n",
    "            break\n",
    "        else:\n",
    "            brand.append(m.text)\n",
    "    \n",
    "    for j in driver.find_elements_by_xpath(\"//div[@class='_30jeq3']\"):\n",
    "        if len(price) == 100:\n",
    "            break\n",
    "        else:\n",
    "            price.append(j.text)\n",
    "    \n",
    "    for k in driver.find_elements_by_xpath(\"//div[@class='_3Ay6Sb']/span\"):\n",
    "        if len(discount) == 100:\n",
    "            break\n",
    "        else:\n",
    "            discount.append(k.text)\n",
    "    \n",
    "    for l in driver.find_elements_by_xpath(\"//a[@class='IRpwTa']\"):\n",
    "        if len(desc) == 100:\n",
    "            break\n",
    "        else:\n",
    "            desc.append(l.text)"
   ]
  },
  {
   "cell_type": "code",
   "execution_count": 257,
   "metadata": {},
   "outputs": [],
   "source": [
    "sunglass = pd.DataFrame({})\n",
    "sunglass['Brand'] = brand\n",
    "sunglass['Description'] = desc\n",
    "sunglass['Price'] = price\n",
    "sunglass['Disscont'] = discount"
   ]
  },
  {
   "cell_type": "code",
   "execution_count": 258,
   "metadata": {},
   "outputs": [
    {
     "data": {
      "text/html": [
       "<div>\n",
       "<style scoped>\n",
       "    .dataframe tbody tr th:only-of-type {\n",
       "        vertical-align: middle;\n",
       "    }\n",
       "\n",
       "    .dataframe tbody tr th {\n",
       "        vertical-align: top;\n",
       "    }\n",
       "\n",
       "    .dataframe thead th {\n",
       "        text-align: right;\n",
       "    }\n",
       "</style>\n",
       "<table border=\"1\" class=\"dataframe\">\n",
       "  <thead>\n",
       "    <tr style=\"text-align: right;\">\n",
       "      <th></th>\n",
       "      <th>Brand</th>\n",
       "      <th>Description</th>\n",
       "      <th>Price</th>\n",
       "      <th>Disscont</th>\n",
       "    </tr>\n",
       "  </thead>\n",
       "  <tbody>\n",
       "    <tr>\n",
       "      <th>0</th>\n",
       "      <td>ROYAL SON</td>\n",
       "      <td>Polarized, UV Protection Round Sunglasses (49)</td>\n",
       "      <td>₹379</td>\n",
       "      <td>74% off</td>\n",
       "    </tr>\n",
       "    <tr>\n",
       "      <th>1</th>\n",
       "      <td>ROYAL SON</td>\n",
       "      <td>UV Protection Wayfarer Sunglasses (Free Size)</td>\n",
       "      <td>₹664</td>\n",
       "      <td>66% off</td>\n",
       "    </tr>\n",
       "    <tr>\n",
       "      <th>2</th>\n",
       "      <td>PIRASO</td>\n",
       "      <td>UV Protection Aviator Sunglasses (54)</td>\n",
       "      <td>₹250</td>\n",
       "      <td>84% off</td>\n",
       "    </tr>\n",
       "    <tr>\n",
       "      <th>3</th>\n",
       "      <td>Fastrack</td>\n",
       "      <td>UV Protection Rectangular Sunglasses (Free Size)</td>\n",
       "      <td>₹758</td>\n",
       "      <td>15% off</td>\n",
       "    </tr>\n",
       "    <tr>\n",
       "      <th>4</th>\n",
       "      <td>Fastrack</td>\n",
       "      <td>UV Protection Retro Square Sunglasses (Free Size)</td>\n",
       "      <td>₹630</td>\n",
       "      <td>21% off</td>\n",
       "    </tr>\n",
       "    <tr>\n",
       "      <th>...</th>\n",
       "      <td>...</td>\n",
       "      <td>...</td>\n",
       "      <td>...</td>\n",
       "      <td>...</td>\n",
       "    </tr>\n",
       "    <tr>\n",
       "      <th>95</th>\n",
       "      <td>ROYAL SON</td>\n",
       "      <td>UV Protection Wayfarer Sunglasses (55)</td>\n",
       "      <td>₹474</td>\n",
       "      <td>68% off</td>\n",
       "    </tr>\n",
       "    <tr>\n",
       "      <th>96</th>\n",
       "      <td>ROYAL SON</td>\n",
       "      <td>Mirrored, UV Protection Wayfarer, Wayfarer, Wa...</td>\n",
       "      <td>₹399</td>\n",
       "      <td>73% off</td>\n",
       "    </tr>\n",
       "    <tr>\n",
       "      <th>97</th>\n",
       "      <td>Fastrack</td>\n",
       "      <td>UV Protection Aviator Sunglasses (58)</td>\n",
       "      <td>₹1,097</td>\n",
       "      <td>15% off</td>\n",
       "    </tr>\n",
       "    <tr>\n",
       "      <th>98</th>\n",
       "      <td>GANSTA</td>\n",
       "      <td>UV Protection, Mirrored Retro Square Sunglasse...</td>\n",
       "      <td>₹224</td>\n",
       "      <td>77% off</td>\n",
       "    </tr>\n",
       "    <tr>\n",
       "      <th>99</th>\n",
       "      <td>ROYAL SON</td>\n",
       "      <td>UV Protection, Riding Glasses Rectangular Sung...</td>\n",
       "      <td>₹759</td>\n",
       "      <td>62% off</td>\n",
       "    </tr>\n",
       "  </tbody>\n",
       "</table>\n",
       "<p>100 rows × 4 columns</p>\n",
       "</div>"
      ],
      "text/plain": [
       "        Brand                                        Description   Price  \\\n",
       "0   ROYAL SON     Polarized, UV Protection Round Sunglasses (49)    ₹379   \n",
       "1   ROYAL SON      UV Protection Wayfarer Sunglasses (Free Size)    ₹664   \n",
       "2      PIRASO              UV Protection Aviator Sunglasses (54)    ₹250   \n",
       "3    Fastrack   UV Protection Rectangular Sunglasses (Free Size)    ₹758   \n",
       "4    Fastrack  UV Protection Retro Square Sunglasses (Free Size)    ₹630   \n",
       "..        ...                                                ...     ...   \n",
       "95  ROYAL SON             UV Protection Wayfarer Sunglasses (55)    ₹474   \n",
       "96  ROYAL SON  Mirrored, UV Protection Wayfarer, Wayfarer, Wa...    ₹399   \n",
       "97   Fastrack              UV Protection Aviator Sunglasses (58)  ₹1,097   \n",
       "98     GANSTA  UV Protection, Mirrored Retro Square Sunglasse...    ₹224   \n",
       "99  ROYAL SON  UV Protection, Riding Glasses Rectangular Sung...    ₹759   \n",
       "\n",
       "   Disscont  \n",
       "0   74% off  \n",
       "1   66% off  \n",
       "2   84% off  \n",
       "3   15% off  \n",
       "4   21% off  \n",
       "..      ...  \n",
       "95  68% off  \n",
       "96  73% off  \n",
       "97  15% off  \n",
       "98  77% off  \n",
       "99  62% off  \n",
       "\n",
       "[100 rows x 4 columns]"
      ]
     },
     "execution_count": 258,
     "metadata": {},
     "output_type": "execute_result"
    }
   ],
   "source": [
    "sunglass"
   ]
  },
  {
   "cell_type": "markdown",
   "metadata": {},
   "source": [
    "# Scrape 100 reviews data from flipkart.com for iphone11 phone."
   ]
  },
  {
   "cell_type": "code",
   "execution_count": 282,
   "metadata": {},
   "outputs": [],
   "source": [
    "driver.get('https://www.flipkart.com/apple-iphone-11-black-64-gb-includes-earpods-power-adapter/p/itm0f37c2240b217?pid=MOBFKCTSVZAXUHGR&lid=LSTMOBFKCTSVZAXUHGREPBFGI&marketplace.')"
   ]
  },
  {
   "cell_type": "code",
   "execution_count": 283,
   "metadata": {},
   "outputs": [],
   "source": [
    "rating = []\n",
    "r_sum = []\n",
    "full_sum = []\n",
    "urls1 = []"
   ]
  },
  {
   "cell_type": "code",
   "execution_count": 284,
   "metadata": {},
   "outputs": [],
   "source": [
    "# opening the review page\n",
    "clk = driver.find_element_by_xpath(\"//div[@class='_3UAT2v _16PBlm']/span\")\n",
    "clk.click()"
   ]
  },
  {
   "cell_type": "code",
   "execution_count": 285,
   "metadata": {},
   "outputs": [],
   "source": [
    "url = driver.find_elements_by_xpath(\"//nav[@class='yFHi8N']/a\")\n",
    "for i in url:\n",
    "    urls1.append(i.get_attribute('href'))\n",
    "for i in range(0,10):\n",
    "    driver.get(urls1[i])\n",
    "    for i in driver.find_elements_by_xpath(\"//p[@class='_2-N8zT']\"):\n",
    "        rating.append(i.text)\n",
    "    \n",
    "    for j in driver.find_elements_by_xpath(\"//p[@class='_2-N8zT']\"):\n",
    "        r_sum.append(j.text)\n",
    "    \n",
    "    for k in driver.find_elements_by_xpath(\"//div[@class='t-ZTKy']\"):\n",
    "        full_sum.append(k.text)"
   ]
  },
  {
   "cell_type": "code",
   "execution_count": 287,
   "metadata": {},
   "outputs": [
    {
     "data": {
      "text/html": [
       "<div>\n",
       "<style scoped>\n",
       "    .dataframe tbody tr th:only-of-type {\n",
       "        vertical-align: middle;\n",
       "    }\n",
       "\n",
       "    .dataframe tbody tr th {\n",
       "        vertical-align: top;\n",
       "    }\n",
       "\n",
       "    .dataframe thead th {\n",
       "        text-align: right;\n",
       "    }\n",
       "</style>\n",
       "<table border=\"1\" class=\"dataframe\">\n",
       "  <thead>\n",
       "    <tr style=\"text-align: right;\">\n",
       "      <th></th>\n",
       "      <th>Rating</th>\n",
       "      <th>Review Summary</th>\n",
       "      <th>Full Review</th>\n",
       "    </tr>\n",
       "  </thead>\n",
       "  <tbody>\n",
       "    <tr>\n",
       "      <th>0</th>\n",
       "      <td>Brilliant</td>\n",
       "      <td>Brilliant</td>\n",
       "      <td>The Best Phone for the Money\\n\\nThe iPhone 11 ...</td>\n",
       "    </tr>\n",
       "    <tr>\n",
       "      <th>1</th>\n",
       "      <td>Perfect product!</td>\n",
       "      <td>Perfect product!</td>\n",
       "      <td>Amazing phone with great cameras and better ba...</td>\n",
       "    </tr>\n",
       "    <tr>\n",
       "      <th>2</th>\n",
       "      <td>Great product</td>\n",
       "      <td>Great product</td>\n",
       "      <td>Amazing Powerful and Durable Gadget.\\n\\nI’m am...</td>\n",
       "    </tr>\n",
       "    <tr>\n",
       "      <th>3</th>\n",
       "      <td>Worth every penny</td>\n",
       "      <td>Worth every penny</td>\n",
       "      <td>Previously I was using one plus 3t it was a gr...</td>\n",
       "    </tr>\n",
       "    <tr>\n",
       "      <th>4</th>\n",
       "      <td>Good choice</td>\n",
       "      <td>Good choice</td>\n",
       "      <td>So far it’s been an AMAZING experience coming ...</td>\n",
       "    </tr>\n",
       "    <tr>\n",
       "      <th>...</th>\n",
       "      <td>...</td>\n",
       "      <td>...</td>\n",
       "      <td>...</td>\n",
       "    </tr>\n",
       "    <tr>\n",
       "      <th>95</th>\n",
       "      <td>Fabulous!</td>\n",
       "      <td>Fabulous!</td>\n",
       "      <td>Everything is perfect pictures come out so cle...</td>\n",
       "    </tr>\n",
       "    <tr>\n",
       "      <th>96</th>\n",
       "      <td>Wonderful</td>\n",
       "      <td>Wonderful</td>\n",
       "      <td>Nice value for money good and best price I pho...</td>\n",
       "    </tr>\n",
       "    <tr>\n",
       "      <th>97</th>\n",
       "      <td>Fabulous!</td>\n",
       "      <td>Fabulous!</td>\n",
       "      <td>Just an awesome phone...upgraded from 6s to 11...</td>\n",
       "    </tr>\n",
       "    <tr>\n",
       "      <th>98</th>\n",
       "      <td>Value-for-money</td>\n",
       "      <td>Value-for-money</td>\n",
       "      <td>As usual a great product from Apple. but the l...</td>\n",
       "    </tr>\n",
       "    <tr>\n",
       "      <th>99</th>\n",
       "      <td>Terrific</td>\n",
       "      <td>Terrific</td>\n",
       "      <td>Good buy.. working perfectly !\\n\\nThat was upg...</td>\n",
       "    </tr>\n",
       "  </tbody>\n",
       "</table>\n",
       "<p>100 rows × 3 columns</p>\n",
       "</div>"
      ],
      "text/plain": [
       "               Rating     Review Summary  \\\n",
       "0           Brilliant          Brilliant   \n",
       "1    Perfect product!   Perfect product!   \n",
       "2       Great product      Great product   \n",
       "3   Worth every penny  Worth every penny   \n",
       "4         Good choice        Good choice   \n",
       "..                ...                ...   \n",
       "95          Fabulous!          Fabulous!   \n",
       "96          Wonderful          Wonderful   \n",
       "97          Fabulous!          Fabulous!   \n",
       "98    Value-for-money    Value-for-money   \n",
       "99           Terrific           Terrific   \n",
       "\n",
       "                                          Full Review  \n",
       "0   The Best Phone for the Money\\n\\nThe iPhone 11 ...  \n",
       "1   Amazing phone with great cameras and better ba...  \n",
       "2   Amazing Powerful and Durable Gadget.\\n\\nI’m am...  \n",
       "3   Previously I was using one plus 3t it was a gr...  \n",
       "4   So far it’s been an AMAZING experience coming ...  \n",
       "..                                                ...  \n",
       "95  Everything is perfect pictures come out so cle...  \n",
       "96  Nice value for money good and best price I pho...  \n",
       "97  Just an awesome phone...upgraded from 6s to 11...  \n",
       "98  As usual a great product from Apple. but the l...  \n",
       "99  Good buy.. working perfectly !\\n\\nThat was upg...  \n",
       "\n",
       "[100 rows x 3 columns]"
      ]
     },
     "execution_count": 287,
     "metadata": {},
     "output_type": "execute_result"
    }
   ],
   "source": [
    "iphone = pd.DataFrame({})\n",
    "iphone['Rating'] = rating\n",
    "iphone['Review Summary'] = r_sum\n",
    "iphone['Full Review'] = full_sum\n",
    "iphone"
   ]
  },
  {
   "cell_type": "markdown",
   "metadata": {},
   "source": [
    "# Scrape data for first 100 sneakers you find when you visit flipkart.com and search for “sneakers” in the search field."
   ]
  },
  {
   "cell_type": "code",
   "execution_count": 139,
   "metadata": {},
   "outputs": [],
   "source": [
    "driver.get('https://www.flipkart.com')"
   ]
  },
  {
   "cell_type": "code",
   "execution_count": 140,
   "metadata": {},
   "outputs": [
    {
     "name": "stdout",
     "output_type": "stream",
     "text": [
      "Enter the product: sneakers\n"
     ]
    }
   ],
   "source": [
    "# searching product\n",
    "\n",
    "inp = input(\"Enter the product: \")\n",
    "search = driver.find_element_by_xpath(\"//div[@class='_3OO5Xc']/input\")\n",
    "search.clear()\n",
    "search.send_keys(inp)\n",
    "\n",
    "search_btn = driver.find_element_by_xpath(\"//button[@class='L0Z3Pu']\")\n",
    "search_btn.click()"
   ]
  },
  {
   "cell_type": "code",
   "execution_count": 141,
   "metadata": {},
   "outputs": [],
   "source": [
    "brand = []\n",
    "p_desc = []\n",
    "price = []\n",
    "discount = []\n",
    "url_list = []"
   ]
  },
  {
   "cell_type": "code",
   "execution_count": 142,
   "metadata": {},
   "outputs": [],
   "source": [
    "temp = driver.find_elements_by_xpath(\"//nav[@class='yFHi8N']/a\")\n",
    "for i in temp:\n",
    "    url_list.append(i.get_attribute('href'))"
   ]
  },
  {
   "cell_type": "code",
   "execution_count": 143,
   "metadata": {},
   "outputs": [],
   "source": [
    "for i in range(3):\n",
    "    driver.get(url_list[i])\n",
    "    for m in driver.find_elements_by_xpath(\"//div[@class='_2WkVRV']\"):\n",
    "        if len(brand) == 100:\n",
    "            break\n",
    "        else:\n",
    "            brand.append(m.text)\n",
    "    \n",
    "    for j in driver.find_elements_by_xpath(\"//a[@class='IRpwTa']\"):\n",
    "        if len(p_desc) == 100:\n",
    "            break\n",
    "        else:\n",
    "            p_desc.append(j.text)\n",
    "    \n",
    "    for k in driver.find_elements_by_xpath(\"//div[@class='_30jeq3']\"):\n",
    "        if len(price) == 100:\n",
    "            break\n",
    "        else:\n",
    "            price.append(k.text)\n",
    "    \n",
    "    for l in driver.find_elements_by_xpath(\"//div[@class='_3Ay6Sb']/span\"):\n",
    "        if len(discount) == 100:\n",
    "            break\n",
    "        else:\n",
    "            discount.append(l.text)"
   ]
  },
  {
   "cell_type": "code",
   "execution_count": null,
   "metadata": {},
   "outputs": [],
   "source": [
    "sneakers = pd.DataFrame({})\n",
    "sneakers['Brand'] = brand\n",
    "sneakers['Description'] = p_desc\n",
    "sneakers['Price'] = price\n",
    "sneakers['Discount'] = discount"
   ]
  },
  {
   "cell_type": "code",
   "execution_count": 416,
   "metadata": {},
   "outputs": [
    {
     "name": "stdout",
     "output_type": "stream",
     "text": [
      "100 96 100 100\n"
     ]
    }
   ],
   "source": [
    "print(len(brand), len(p_desc), len(price), len(discount))"
   ]
  },
  {
   "cell_type": "markdown",
   "metadata": {},
   "source": [
    "# Go to the link - https://www.myntra.com/shoes\n",
    "# Set Price filter to “Rs. 6649 to Rs. 13099” , Color filter to “Black”, as shown in the below image\n",
    "# And then scrape First 100 shoes data you get. The data should include “Brand” of the shoes , Short Shoe description, price of the shoe"
   ]
  },
  {
   "cell_type": "code",
   "execution_count": 499,
   "metadata": {},
   "outputs": [],
   "source": [
    "driver.get('https://www.myntra.com/shoes')"
   ]
  },
  {
   "cell_type": "code",
   "execution_count": 500,
   "metadata": {},
   "outputs": [],
   "source": [
    "driver.find_element_by_xpath('//*[@id=\"mountRoot\"]/div/div[1]/main/div[3]/div[1]/section/div/div[6]/ul/li[1]/label').click()"
   ]
  },
  {
   "cell_type": "code",
   "execution_count": 501,
   "metadata": {},
   "outputs": [],
   "source": [
    "driver.find_element_by_xpath(\"//*[@id='mountRoot']/div/div[1]/main/div[3]/div[1]/section/div/div[5]/ul/li[2]/label\").click()"
   ]
  },
  {
   "cell_type": "code",
   "execution_count": 502,
   "metadata": {},
   "outputs": [],
   "source": [
    "brand = []\n",
    "s_desc = []\n",
    "price = []\n",
    "url_list1 = []"
   ]
  },
  {
   "cell_type": "code",
   "execution_count": 503,
   "metadata": {},
   "outputs": [],
   "source": [
    "abc = driver.find_elements_by_xpath(\"//li[@class='pagination-number']/a\")\n",
    "for i in abc:\n",
    "    url_list1.append(i.get_attribute('href'))"
   ]
  },
  {
   "cell_type": "code",
   "execution_count": 504,
   "metadata": {},
   "outputs": [
    {
     "data": {
      "text/plain": [
       "['https://www.myntra.com/shoes?f=Color%3ABlack_36454f&plaEnabled=false&rf=Price%3A6601.0_13068.0_6601.0%20TO%2013068.0&p=2',\n",
       " 'https://www.myntra.com/shoes?f=Color%3ABlack_36454f&plaEnabled=false&rf=Price%3A6601.0_13068.0_6601.0%20TO%2013068.0&p=3',\n",
       " 'https://www.myntra.com/shoes?f=Color%3ABlack_36454f&plaEnabled=false&rf=Price%3A6601.0_13068.0_6601.0%20TO%2013068.0&p=4',\n",
       " 'https://www.myntra.com/shoes?f=Color%3ABlack_36454f&plaEnabled=false&rf=Price%3A6601.0_13068.0_6601.0%20TO%2013068.0&p=5',\n",
       " 'https://www.myntra.com/shoes?f=Color%3ABlack_36454f&plaEnabled=false&rf=Price%3A6601.0_13068.0_6601.0%20TO%2013068.0&p=6',\n",
       " 'https://www.myntra.com/shoes?f=Color%3ABlack_36454f&plaEnabled=false&rf=Price%3A6601.0_13068.0_6601.0%20TO%2013068.0&p=7',\n",
       " 'https://www.myntra.com/shoes?f=Color%3ABlack_36454f&plaEnabled=false&rf=Price%3A6601.0_13068.0_6601.0%20TO%2013068.0&p=8',\n",
       " 'https://www.myntra.com/shoes?f=Color%3ABlack_36454f&plaEnabled=false&rf=Price%3A6601.0_13068.0_6601.0%20TO%2013068.0&p=9',\n",
       " 'https://www.myntra.com/shoes?f=Color%3ABlack_36454f&plaEnabled=false&rf=Price%3A6601.0_13068.0_6601.0%20TO%2013068.0&p=10']"
      ]
     },
     "execution_count": 504,
     "metadata": {},
     "output_type": "execute_result"
    }
   ],
   "source": [
    "url_list1"
   ]
  },
  {
   "cell_type": "code",
   "execution_count": 512,
   "metadata": {},
   "outputs": [],
   "source": [
    "for i in range(0,2):\n",
    "    for j in driver.find_elements_by_xpath('//h3[@class=\"product-brand\"]'):\n",
    "        if len(brand) == 100:\n",
    "            break\n",
    "        else:\n",
    "            brand.append(j.text)\n",
    "    \n",
    "    for k in driver.find_elements_by_xpath('//div[@class=\"product-price\"]'):\n",
    "        if len(price) == 100:\n",
    "            break\n",
    "        else:\n",
    "            price.append(k.text)\n",
    "    \n",
    "    for l in driver.find_elements_by_xpath('//h4[@class=\"product-product\"]'):\n",
    "        if len(s_desc) == 100:\n",
    "            break\n",
    "        else:\n",
    "            s_desc.append(l.text)\n",
    "    \n",
    "    driver.get(url_list1[i])"
   ]
  },
  {
   "cell_type": "code",
   "execution_count": 513,
   "metadata": {},
   "outputs": [
    {
     "name": "stdout",
     "output_type": "stream",
     "text": [
      "100 100 100\n"
     ]
    }
   ],
   "source": [
    "print(len(brand), len(s_desc), len(price))"
   ]
  },
  {
   "cell_type": "code",
   "execution_count": 514,
   "metadata": {},
   "outputs": [
    {
     "data": {
      "text/html": [
       "<div>\n",
       "<style scoped>\n",
       "    .dataframe tbody tr th:only-of-type {\n",
       "        vertical-align: middle;\n",
       "    }\n",
       "\n",
       "    .dataframe tbody tr th {\n",
       "        vertical-align: top;\n",
       "    }\n",
       "\n",
       "    .dataframe thead th {\n",
       "        text-align: right;\n",
       "    }\n",
       "</style>\n",
       "<table border=\"1\" class=\"dataframe\">\n",
       "  <thead>\n",
       "    <tr style=\"text-align: right;\">\n",
       "      <th></th>\n",
       "      <th>Brand</th>\n",
       "      <th>Description</th>\n",
       "      <th>Price</th>\n",
       "    </tr>\n",
       "  </thead>\n",
       "  <tbody>\n",
       "    <tr>\n",
       "      <th>0</th>\n",
       "      <td>Nike</td>\n",
       "      <td>Men React Infinity Running</td>\n",
       "      <td>Rs. 11621Rs. 15495</td>\n",
       "    </tr>\n",
       "    <tr>\n",
       "      <th>1</th>\n",
       "      <td>Nike</td>\n",
       "      <td>Men AIR ZOOM Running Shoes</td>\n",
       "      <td>(25% OFF)</td>\n",
       "    </tr>\n",
       "    <tr>\n",
       "      <th>2</th>\n",
       "      <td>Nike</td>\n",
       "      <td>Men KD13 EP Basketball Shoes</td>\n",
       "      <td>Rs. 7721Rs. 10295</td>\n",
       "    </tr>\n",
       "    <tr>\n",
       "      <th>3</th>\n",
       "      <td>Nike</td>\n",
       "      <td>Women AIR ZOOM Running</td>\n",
       "      <td>(25% OFF)</td>\n",
       "    </tr>\n",
       "    <tr>\n",
       "      <th>4</th>\n",
       "      <td>Nike</td>\n",
       "      <td>Men JOYRIDE Running Shoes</td>\n",
       "      <td>Rs. 12995</td>\n",
       "    </tr>\n",
       "    <tr>\n",
       "      <th>...</th>\n",
       "      <td>...</td>\n",
       "      <td>...</td>\n",
       "      <td>...</td>\n",
       "    </tr>\n",
       "    <tr>\n",
       "      <th>95</th>\n",
       "      <td>Nike</td>\n",
       "      <td>Men REACT PHANTOM FLYKNIT2 Run</td>\n",
       "      <td>Rs. 7199Rs. 11999</td>\n",
       "    </tr>\n",
       "    <tr>\n",
       "      <th>96</th>\n",
       "      <td>Saint G</td>\n",
       "      <td>Leather Heeled Boots</td>\n",
       "      <td>(40% OFF)</td>\n",
       "    </tr>\n",
       "    <tr>\n",
       "      <th>97</th>\n",
       "      <td>Kenneth Cole</td>\n",
       "      <td>Women Solid Flat Boots</td>\n",
       "      <td>Rs. 7192Rs. 8990</td>\n",
       "    </tr>\n",
       "    <tr>\n",
       "      <th>98</th>\n",
       "      <td>UNDER ARMOUR</td>\n",
       "      <td>Charged Rogue 2 Running Shoes</td>\n",
       "      <td>(20% OFF)</td>\n",
       "    </tr>\n",
       "    <tr>\n",
       "      <th>99</th>\n",
       "      <td>Nike</td>\n",
       "      <td>Women PEGASUS 37 Running Shoes</td>\n",
       "      <td>Rs. 8995Rs. 9995</td>\n",
       "    </tr>\n",
       "  </tbody>\n",
       "</table>\n",
       "<p>100 rows × 3 columns</p>\n",
       "</div>"
      ],
      "text/plain": [
       "           Brand                     Description               Price\n",
       "0           Nike      Men React Infinity Running  Rs. 11621Rs. 15495\n",
       "1           Nike      Men AIR ZOOM Running Shoes           (25% OFF)\n",
       "2           Nike    Men KD13 EP Basketball Shoes   Rs. 7721Rs. 10295\n",
       "3           Nike          Women AIR ZOOM Running           (25% OFF)\n",
       "4           Nike       Men JOYRIDE Running Shoes           Rs. 12995\n",
       "..           ...                             ...                 ...\n",
       "95          Nike  Men REACT PHANTOM FLYKNIT2 Run   Rs. 7199Rs. 11999\n",
       "96       Saint G            Leather Heeled Boots           (40% OFF)\n",
       "97  Kenneth Cole          Women Solid Flat Boots    Rs. 7192Rs. 8990\n",
       "98  UNDER ARMOUR   Charged Rogue 2 Running Shoes           (20% OFF)\n",
       "99          Nike  Women PEGASUS 37 Running Shoes    Rs. 8995Rs. 9995\n",
       "\n",
       "[100 rows x 3 columns]"
      ]
     },
     "execution_count": 514,
     "metadata": {},
     "output_type": "execute_result"
    }
   ],
   "source": [
    "shoes = pd.DataFrame({})\n",
    "shoes['Brand'] = brand\n",
    "shoes['Description'] = s_desc\n",
    "shoes['Price'] = price\n",
    "shoes"
   ]
  },
  {
   "cell_type": "markdown",
   "metadata": {},
   "source": [
    "# Scrapping laptop list from amazon using filter search"
   ]
  },
  {
   "cell_type": "code",
   "execution_count": 127,
   "metadata": {},
   "outputs": [],
   "source": [
    "driver.get('https://www.amazon.in')"
   ]
  },
  {
   "cell_type": "code",
   "execution_count": 130,
   "metadata": {},
   "outputs": [
    {
     "name": "stdout",
     "output_type": "stream",
     "text": [
      "Enter product: Laptop\n"
     ]
    }
   ],
   "source": [
    "# passing search item\n",
    "search_inp = input('Enter product: ')\n",
    "search_bar = driver.find_element_by_xpath(\"//input[@id='twotabsearchtextbox']\")\n",
    "search_bar.clear()\n",
    "search_bar.send_keys(search_inp)\n",
    "\n",
    "# searching\n",
    "search_btn = driver.find_element_by_xpath(\"//input[@id='nav-search-submit-button']\")\n",
    "search_btn.click()"
   ]
  },
  {
   "cell_type": "code",
   "execution_count": 131,
   "metadata": {},
   "outputs": [],
   "source": [
    "# applying filter corei7\n",
    "filter1 = driver.find_element_by_xpath(\"//*[@id='p_n_feature_thirteen_browse-bin/12598163031']/span/a/span\")\n",
    "filter1.click()\n",
    "\n",
    "# applying filter corei9\n",
    "#filter2 = driver.find_element_by_xpath('//*[@id=\"p_n_feature_thirteen_browse-bin/16757432031\"]/span/a/span')\n",
    "#filter2.click()\n",
    "\n",
    "# we can not apply more than one filter in same page and after applying single filter cpu type is not showing in the next page "
   ]
  },
  {
   "cell_type": "code",
   "execution_count": 132,
   "metadata": {},
   "outputs": [],
   "source": [
    "title = []\n",
    "rating = []\n",
    "price = []"
   ]
  },
  {
   "cell_type": "code",
   "execution_count": 133,
   "metadata": {},
   "outputs": [],
   "source": [
    "# extracting title\n",
    "for i in driver.find_elements_by_xpath('//span[@class=\"a-size-medium a-color-base a-text-normal\"]'):\n",
    "    if len(title) == 10:\n",
    "        break\n",
    "    else:\n",
    "        title.append(i.text)\n",
    "    \n",
    "# extracting rating\n",
    "for j in driver.find_elements_by_xpath('//a[@class=\"a-popover-trigger a-declarative\"]/i/span'):\n",
    "    if len(rating) == 10:\n",
    "        break\n",
    "    else:\n",
    "        rating.append(j.text)\n",
    "\n",
    "# extracting price\n",
    "for k in driver.find_elements_by_xpath('//span[@class=\"a-price-whole\"]'):\n",
    "    if len(price) == 10:\n",
    "        break\n",
    "    else:\n",
    "        price.append(k.text)"
   ]
  },
  {
   "cell_type": "code",
   "execution_count": 137,
   "metadata": {},
   "outputs": [],
   "source": [
    "laptop = pd.DataFrame({})\n",
    "laptop['Name'] = title\n",
    "laptop['Rating'] = rating\n",
    "laptop['Price'] = price"
   ]
  },
  {
   "cell_type": "code",
   "execution_count": 138,
   "metadata": {},
   "outputs": [
    {
     "data": {
      "text/html": [
       "<div>\n",
       "<style scoped>\n",
       "    .dataframe tbody tr th:only-of-type {\n",
       "        vertical-align: middle;\n",
       "    }\n",
       "\n",
       "    .dataframe tbody tr th {\n",
       "        vertical-align: top;\n",
       "    }\n",
       "\n",
       "    .dataframe thead th {\n",
       "        text-align: right;\n",
       "    }\n",
       "</style>\n",
       "<table border=\"1\" class=\"dataframe\">\n",
       "  <thead>\n",
       "    <tr style=\"text-align: right;\">\n",
       "      <th></th>\n",
       "      <th>Name</th>\n",
       "      <th>Rating</th>\n",
       "      <th>Price</th>\n",
       "    </tr>\n",
       "  </thead>\n",
       "  <tbody>\n",
       "    <tr>\n",
       "      <th>0</th>\n",
       "      <td>(Renewed) Lenovo T430 14-inch Laptop (Core i7/...</td>\n",
       "      <td></td>\n",
       "      <td>53,499</td>\n",
       "    </tr>\n",
       "    <tr>\n",
       "      <th>1</th>\n",
       "      <td>(Renewed) Dell Latitude E6420 14 Inch Laptop (...</td>\n",
       "      <td></td>\n",
       "      <td>34,000</td>\n",
       "    </tr>\n",
       "    <tr>\n",
       "      <th>2</th>\n",
       "      <td>(Renewed) Lenovo T430 14-inch Laptop (Core i7/...</td>\n",
       "      <td></td>\n",
       "      <td>37,499</td>\n",
       "    </tr>\n",
       "    <tr>\n",
       "      <th>3</th>\n",
       "      <td>(Renewed) Lenovo T430 14-inch Laptop (Core i7/...</td>\n",
       "      <td></td>\n",
       "      <td>37,999</td>\n",
       "    </tr>\n",
       "    <tr>\n",
       "      <th>4</th>\n",
       "      <td>(Renewed) Lenovo Intel 4th Gen Core i7-4980HQ ...</td>\n",
       "      <td></td>\n",
       "      <td>46,290</td>\n",
       "    </tr>\n",
       "    <tr>\n",
       "      <th>5</th>\n",
       "      <td>Lenovo IdeaPad Gaming 3 10th Gen Intel Core i7...</td>\n",
       "      <td></td>\n",
       "      <td>84,200</td>\n",
       "    </tr>\n",
       "    <tr>\n",
       "      <th>6</th>\n",
       "      <td>Asus ROG Zephyrus S Ultra Slim Gaming Laptop, ...</td>\n",
       "      <td></td>\n",
       "      <td>3,43,099</td>\n",
       "    </tr>\n",
       "    <tr>\n",
       "      <th>7</th>\n",
       "      <td>MSI GE75 Raider 10SFS 17.3\" FHD Gaming Laptop ...</td>\n",
       "      <td></td>\n",
       "      <td>1,84,990</td>\n",
       "    </tr>\n",
       "    <tr>\n",
       "      <th>8</th>\n",
       "      <td>Dell Inspiron 5409 14.0\" (35.56cms)FHD WVA AG ...</td>\n",
       "      <td></td>\n",
       "      <td>99,138</td>\n",
       "    </tr>\n",
       "    <tr>\n",
       "      <th>9</th>\n",
       "      <td>HP 14 Thin &amp; Light 14\" (35.56cms) FHD Laptop (...</td>\n",
       "      <td></td>\n",
       "      <td>61,799</td>\n",
       "    </tr>\n",
       "  </tbody>\n",
       "</table>\n",
       "</div>"
      ],
      "text/plain": [
       "                                                Name Rating     Price\n",
       "0  (Renewed) Lenovo T430 14-inch Laptop (Core i7/...           53,499\n",
       "1  (Renewed) Dell Latitude E6420 14 Inch Laptop (...           34,000\n",
       "2  (Renewed) Lenovo T430 14-inch Laptop (Core i7/...           37,499\n",
       "3  (Renewed) Lenovo T430 14-inch Laptop (Core i7/...           37,999\n",
       "4  (Renewed) Lenovo Intel 4th Gen Core i7-4980HQ ...           46,290\n",
       "5  Lenovo IdeaPad Gaming 3 10th Gen Intel Core i7...           84,200\n",
       "6  Asus ROG Zephyrus S Ultra Slim Gaming Laptop, ...         3,43,099\n",
       "7  MSI GE75 Raider 10SFS 17.3\" FHD Gaming Laptop ...         1,84,990\n",
       "8  Dell Inspiron 5409 14.0\" (35.56cms)FHD WVA AG ...           99,138\n",
       "9  HP 14 Thin & Light 14\" (35.56cms) FHD Laptop (...           61,799"
      ]
     },
     "execution_count": 138,
     "metadata": {},
     "output_type": "execute_result"
    }
   ],
   "source": [
    "laptop"
   ]
  },
  {
   "cell_type": "markdown",
   "metadata": {},
   "source": [
    "In Question number 3, i don't know how to do it. and getting errors everytime."
   ]
  },
  {
   "cell_type": "code",
   "execution_count": null,
   "metadata": {},
   "outputs": [],
   "source": []
  }
 ],
 "metadata": {
  "kernelspec": {
   "display_name": "Python 3",
   "language": "python",
   "name": "python3"
  },
  "language_info": {
   "codemirror_mode": {
    "name": "ipython",
    "version": 3
   },
   "file_extension": ".py",
   "mimetype": "text/x-python",
   "name": "python",
   "nbconvert_exporter": "python",
   "pygments_lexer": "ipython3",
   "version": "3.8.5"
  }
 },
 "nbformat": 4,
 "nbformat_minor": 4
}
