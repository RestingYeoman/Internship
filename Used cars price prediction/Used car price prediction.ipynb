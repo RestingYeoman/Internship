{
 "cells": [
  {
   "cell_type": "markdown",
   "id": "737a1662",
   "metadata": {},
   "source": [
    "# Used car price prediction"
   ]
  },
  {
   "cell_type": "markdown",
   "id": "5b41ebfd",
   "metadata": {},
   "source": [
    "## Data Description"
   ]
  },
  {
   "cell_type": "markdown",
   "id": "65371525",
   "metadata": {},
   "source": [
    "* I have scraped around 6000 used car data from cardekho.com.\n",
    "* It contains 12 columns in which 11 are independent variable and the rest 1 is dependent variable.\n",
    "* The given columns are:-\n",
    "    1. Car_Name = Name of the given car.\n",
    "    2. Price = Price of the car.\n",
    "    3. Year = The year in which car was launched.\n",
    "    4. Seller = Type of seller.\n",
    "    5. Km_Driven = How much is kilometer the given car is driven.\n",
    "    6. Owner = How much owner the car have.\n",
    "    7. Fuel = Fuel type.\n",
    "    8. Transmission = Type of transmission.\n",
    "    9. Mileage = Mileage of the car.\n",
    "    10. Engine = Power of engine in cc.\n",
    "    11. Max_Power = Maximum power of the car in bhp.\n",
    "    12. Seating_Capacity = Seating capacity of the car."
   ]
  },
  {
   "cell_type": "markdown",
   "id": "219b9af6",
   "metadata": {},
   "source": [
    "## Importing modules"
   ]
  },
  {
   "cell_type": "code",
   "execution_count": 1,
   "id": "6c0bd514",
   "metadata": {},
   "outputs": [],
   "source": [
    "import numpy as np\n",
    "import pandas as pd\n",
    "import seaborn as sns\n",
    "import matplotlib.pyplot as plt\n",
    "%matplotlib inline\n",
    "import warnings\n",
    "warnings.filterwarnings('ignore')"
   ]
  },
  {
   "cell_type": "markdown",
   "id": "09c22dfd",
   "metadata": {},
   "source": [
    "## Read csv file"
   ]
  },
  {
   "cell_type": "code",
   "execution_count": 2,
   "id": "7964ab31",
   "metadata": {},
   "outputs": [
    {
     "data": {
      "text/html": [
       "<div>\n",
       "<style scoped>\n",
       "    .dataframe tbody tr th:only-of-type {\n",
       "        vertical-align: middle;\n",
       "    }\n",
       "\n",
       "    .dataframe tbody tr th {\n",
       "        vertical-align: top;\n",
       "    }\n",
       "\n",
       "    .dataframe thead th {\n",
       "        text-align: right;\n",
       "    }\n",
       "</style>\n",
       "<table border=\"1\" class=\"dataframe\">\n",
       "  <thead>\n",
       "    <tr style=\"text-align: right;\">\n",
       "      <th></th>\n",
       "      <th>Car_Name</th>\n",
       "      <th>Price</th>\n",
       "      <th>Year</th>\n",
       "      <th>Seller</th>\n",
       "      <th>Km_Driven</th>\n",
       "      <th>Owner</th>\n",
       "      <th>Fuel</th>\n",
       "      <th>Transmission</th>\n",
       "      <th>Mileage</th>\n",
       "      <th>Engine</th>\n",
       "      <th>Max_Power</th>\n",
       "      <th>Seating_Capacity</th>\n",
       "    </tr>\n",
       "  </thead>\n",
       "  <tbody>\n",
       "    <tr>\n",
       "      <th>0</th>\n",
       "      <td>Maruti Alto Std</td>\n",
       "      <td>1.2 Lakh*</td>\n",
       "      <td>2012</td>\n",
       "      <td>Individual</td>\n",
       "      <td>1,20,000 kms</td>\n",
       "      <td>First Owner</td>\n",
       "      <td>Petrol</td>\n",
       "      <td>Manual</td>\n",
       "      <td>Mileage19.7 kmpl</td>\n",
       "      <td>Engine796 CC</td>\n",
       "      <td>Max Power46.3 bhp</td>\n",
       "      <td>Seats5</td>\n",
       "    </tr>\n",
       "    <tr>\n",
       "      <th>1</th>\n",
       "      <td>Hyundai Grand i10 Asta</td>\n",
       "      <td>5.5 Lakh*</td>\n",
       "      <td>2016</td>\n",
       "      <td>Individual</td>\n",
       "      <td>20,000 kms</td>\n",
       "      <td>First Owner</td>\n",
       "      <td>Petrol</td>\n",
       "      <td>Manual</td>\n",
       "      <td>Mileage18.9 kmpl</td>\n",
       "      <td>Engine1197 CC</td>\n",
       "      <td>Max Power82 bhp</td>\n",
       "      <td>Seats5</td>\n",
       "    </tr>\n",
       "    <tr>\n",
       "      <th>2</th>\n",
       "      <td>Hyundai i20 Asta</td>\n",
       "      <td>2.15 Lakh*</td>\n",
       "      <td>2010</td>\n",
       "      <td>Individual</td>\n",
       "      <td>60,000 kms</td>\n",
       "      <td>First Owner</td>\n",
       "      <td>Petrol</td>\n",
       "      <td>Manual</td>\n",
       "      <td>Mileage17.0 kmpl</td>\n",
       "      <td>Engine1197 CC</td>\n",
       "      <td>Max Power80 bhp</td>\n",
       "      <td>Seats5</td>\n",
       "    </tr>\n",
       "    <tr>\n",
       "      <th>3</th>\n",
       "      <td>Maruti Alto K10 2010-2014 VXI</td>\n",
       "      <td>2.26 Lakh*</td>\n",
       "      <td>2012</td>\n",
       "      <td>Individual</td>\n",
       "      <td>37,000 kms</td>\n",
       "      <td>First Owner</td>\n",
       "      <td>Petrol</td>\n",
       "      <td>Manual</td>\n",
       "      <td>Mileage20.92 kmpl</td>\n",
       "      <td>Engine998 CC</td>\n",
       "      <td>Max Power67.1 bhp</td>\n",
       "      <td>Seats5</td>\n",
       "    </tr>\n",
       "    <tr>\n",
       "      <th>4</th>\n",
       "      <td>Ford Ecosport 2015-2021 1.5 TDCi Titanium BSIV</td>\n",
       "      <td>5.7 Lakh*</td>\n",
       "      <td>2015</td>\n",
       "      <td>Dealer</td>\n",
       "      <td>30,000 kms</td>\n",
       "      <td>First Owner</td>\n",
       "      <td>Diesel</td>\n",
       "      <td>Manual</td>\n",
       "      <td>Mileage22.77 kmpl</td>\n",
       "      <td>Engine1498 CC</td>\n",
       "      <td>Max Power98.59 bhp</td>\n",
       "      <td>Seats5</td>\n",
       "    </tr>\n",
       "  </tbody>\n",
       "</table>\n",
       "</div>"
      ],
      "text/plain": [
       "                                         Car_Name       Price  Year  \\\n",
       "0                                 Maruti Alto Std   1.2 Lakh*  2012   \n",
       "1                          Hyundai Grand i10 Asta   5.5 Lakh*  2016   \n",
       "2                                Hyundai i20 Asta  2.15 Lakh*  2010   \n",
       "3                   Maruti Alto K10 2010-2014 VXI  2.26 Lakh*  2012   \n",
       "4  Ford Ecosport 2015-2021 1.5 TDCi Titanium BSIV   5.7 Lakh*  2015   \n",
       "\n",
       "       Seller     Km_Driven        Owner    Fuel Transmission  \\\n",
       "0  Individual  1,20,000 kms  First Owner  Petrol       Manual   \n",
       "1  Individual    20,000 kms  First Owner  Petrol       Manual   \n",
       "2  Individual    60,000 kms  First Owner  Petrol       Manual   \n",
       "3  Individual    37,000 kms  First Owner  Petrol       Manual   \n",
       "4      Dealer    30,000 kms  First Owner  Diesel       Manual   \n",
       "\n",
       "             Mileage         Engine           Max_Power Seating_Capacity  \n",
       "0   Mileage19.7 kmpl   Engine796 CC   Max Power46.3 bhp           Seats5  \n",
       "1   Mileage18.9 kmpl  Engine1197 CC     Max Power82 bhp           Seats5  \n",
       "2   Mileage17.0 kmpl  Engine1197 CC     Max Power80 bhp           Seats5  \n",
       "3  Mileage20.92 kmpl   Engine998 CC   Max Power67.1 bhp           Seats5  \n",
       "4  Mileage22.77 kmpl  Engine1498 CC  Max Power98.59 bhp           Seats5  "
      ]
     },
     "execution_count": 2,
     "metadata": {},
     "output_type": "execute_result"
    }
   ],
   "source": [
    "df = pd.read_csv('used car dataset.csv')\n",
    "df.head()"
   ]
  },
  {
   "cell_type": "code",
   "execution_count": 3,
   "id": "cd23f700",
   "metadata": {},
   "outputs": [
    {
     "name": "stdout",
     "output_type": "stream",
     "text": [
      "<class 'pandas.core.frame.DataFrame'>\n",
      "RangeIndex: 5946 entries, 0 to 5945\n",
      "Data columns (total 12 columns):\n",
      " #   Column            Non-Null Count  Dtype \n",
      "---  ------            --------------  ----- \n",
      " 0   Car_Name          5946 non-null   object\n",
      " 1   Price             5946 non-null   object\n",
      " 2   Year              5946 non-null   int64 \n",
      " 3   Seller            5946 non-null   object\n",
      " 4   Km_Driven         5946 non-null   object\n",
      " 5   Owner             5946 non-null   object\n",
      " 6   Fuel              5946 non-null   object\n",
      " 7   Transmission      5946 non-null   object\n",
      " 8   Mileage           5905 non-null   object\n",
      " 9   Engine            5909 non-null   object\n",
      " 10  Max_Power         5839 non-null   object\n",
      " 11  Seating_Capacity  5915 non-null   object\n",
      "dtypes: int64(1), object(11)\n",
      "memory usage: 557.6+ KB\n"
     ]
    }
   ],
   "source": [
    "df.info()"
   ]
  },
  {
   "cell_type": "code",
   "execution_count": 4,
   "id": "c056e106",
   "metadata": {
    "scrolled": true
   },
   "outputs": [
    {
     "data": {
      "text/html": [
       "<div>\n",
       "<style scoped>\n",
       "    .dataframe tbody tr th:only-of-type {\n",
       "        vertical-align: middle;\n",
       "    }\n",
       "\n",
       "    .dataframe tbody tr th {\n",
       "        vertical-align: top;\n",
       "    }\n",
       "\n",
       "    .dataframe thead th {\n",
       "        text-align: right;\n",
       "    }\n",
       "</style>\n",
       "<table border=\"1\" class=\"dataframe\">\n",
       "  <thead>\n",
       "    <tr style=\"text-align: right;\">\n",
       "      <th></th>\n",
       "      <th>Car_Name</th>\n",
       "      <th>Price</th>\n",
       "      <th>Year</th>\n",
       "      <th>Seller</th>\n",
       "      <th>Km_Driven</th>\n",
       "      <th>Owner</th>\n",
       "      <th>Fuel</th>\n",
       "      <th>Transmission</th>\n",
       "      <th>Mileage</th>\n",
       "      <th>Engine</th>\n",
       "      <th>Max_Power</th>\n",
       "      <th>Seating_Capacity</th>\n",
       "    </tr>\n",
       "  </thead>\n",
       "  <tbody>\n",
       "    <tr>\n",
       "      <th>count</th>\n",
       "      <td>5946</td>\n",
       "      <td>5946</td>\n",
       "      <td>5946.000000</td>\n",
       "      <td>5946</td>\n",
       "      <td>5946</td>\n",
       "      <td>5946</td>\n",
       "      <td>5946</td>\n",
       "      <td>5946</td>\n",
       "      <td>5905</td>\n",
       "      <td>5909</td>\n",
       "      <td>5839</td>\n",
       "      <td>5915</td>\n",
       "    </tr>\n",
       "    <tr>\n",
       "      <th>unique</th>\n",
       "      <td>1997</td>\n",
       "      <td>749</td>\n",
       "      <td>NaN</td>\n",
       "      <td>3</td>\n",
       "      <td>1578</td>\n",
       "      <td>1</td>\n",
       "      <td>5</td>\n",
       "      <td>2</td>\n",
       "      <td>453</td>\n",
       "      <td>134</td>\n",
       "      <td>378</td>\n",
       "      <td>8</td>\n",
       "    </tr>\n",
       "    <tr>\n",
       "      <th>top</th>\n",
       "      <td>Maruti Swift Dzire VDI</td>\n",
       "      <td>4.5 Lakh*</td>\n",
       "      <td>NaN</td>\n",
       "      <td>Dealer</td>\n",
       "      <td>50,000 kms</td>\n",
       "      <td>First Owner</td>\n",
       "      <td>Diesel</td>\n",
       "      <td>Manual</td>\n",
       "      <td>Mileage18.9 kmpl</td>\n",
       "      <td>Engine1197 CC</td>\n",
       "      <td>Max Power74 bhp</td>\n",
       "      <td>Seats5</td>\n",
       "    </tr>\n",
       "    <tr>\n",
       "      <th>freq</th>\n",
       "      <td>66</td>\n",
       "      <td>137</td>\n",
       "      <td>NaN</td>\n",
       "      <td>3513</td>\n",
       "      <td>233</td>\n",
       "      <td>5946</td>\n",
       "      <td>2994</td>\n",
       "      <td>4713</td>\n",
       "      <td>162</td>\n",
       "      <td>791</td>\n",
       "      <td>268</td>\n",
       "      <td>4878</td>\n",
       "    </tr>\n",
       "    <tr>\n",
       "      <th>mean</th>\n",
       "      <td>NaN</td>\n",
       "      <td>NaN</td>\n",
       "      <td>2014.513454</td>\n",
       "      <td>NaN</td>\n",
       "      <td>NaN</td>\n",
       "      <td>NaN</td>\n",
       "      <td>NaN</td>\n",
       "      <td>NaN</td>\n",
       "      <td>NaN</td>\n",
       "      <td>NaN</td>\n",
       "      <td>NaN</td>\n",
       "      <td>NaN</td>\n",
       "    </tr>\n",
       "    <tr>\n",
       "      <th>std</th>\n",
       "      <td>NaN</td>\n",
       "      <td>NaN</td>\n",
       "      <td>3.158430</td>\n",
       "      <td>NaN</td>\n",
       "      <td>NaN</td>\n",
       "      <td>NaN</td>\n",
       "      <td>NaN</td>\n",
       "      <td>NaN</td>\n",
       "      <td>NaN</td>\n",
       "      <td>NaN</td>\n",
       "      <td>NaN</td>\n",
       "      <td>NaN</td>\n",
       "    </tr>\n",
       "    <tr>\n",
       "      <th>min</th>\n",
       "      <td>NaN</td>\n",
       "      <td>NaN</td>\n",
       "      <td>1997.000000</td>\n",
       "      <td>NaN</td>\n",
       "      <td>NaN</td>\n",
       "      <td>NaN</td>\n",
       "      <td>NaN</td>\n",
       "      <td>NaN</td>\n",
       "      <td>NaN</td>\n",
       "      <td>NaN</td>\n",
       "      <td>NaN</td>\n",
       "      <td>NaN</td>\n",
       "    </tr>\n",
       "    <tr>\n",
       "      <th>25%</th>\n",
       "      <td>NaN</td>\n",
       "      <td>NaN</td>\n",
       "      <td>2013.000000</td>\n",
       "      <td>NaN</td>\n",
       "      <td>NaN</td>\n",
       "      <td>NaN</td>\n",
       "      <td>NaN</td>\n",
       "      <td>NaN</td>\n",
       "      <td>NaN</td>\n",
       "      <td>NaN</td>\n",
       "      <td>NaN</td>\n",
       "      <td>NaN</td>\n",
       "    </tr>\n",
       "    <tr>\n",
       "      <th>50%</th>\n",
       "      <td>NaN</td>\n",
       "      <td>NaN</td>\n",
       "      <td>2015.000000</td>\n",
       "      <td>NaN</td>\n",
       "      <td>NaN</td>\n",
       "      <td>NaN</td>\n",
       "      <td>NaN</td>\n",
       "      <td>NaN</td>\n",
       "      <td>NaN</td>\n",
       "      <td>NaN</td>\n",
       "      <td>NaN</td>\n",
       "      <td>NaN</td>\n",
       "    </tr>\n",
       "    <tr>\n",
       "      <th>75%</th>\n",
       "      <td>NaN</td>\n",
       "      <td>NaN</td>\n",
       "      <td>2017.000000</td>\n",
       "      <td>NaN</td>\n",
       "      <td>NaN</td>\n",
       "      <td>NaN</td>\n",
       "      <td>NaN</td>\n",
       "      <td>NaN</td>\n",
       "      <td>NaN</td>\n",
       "      <td>NaN</td>\n",
       "      <td>NaN</td>\n",
       "      <td>NaN</td>\n",
       "    </tr>\n",
       "    <tr>\n",
       "      <th>max</th>\n",
       "      <td>NaN</td>\n",
       "      <td>NaN</td>\n",
       "      <td>2020.000000</td>\n",
       "      <td>NaN</td>\n",
       "      <td>NaN</td>\n",
       "      <td>NaN</td>\n",
       "      <td>NaN</td>\n",
       "      <td>NaN</td>\n",
       "      <td>NaN</td>\n",
       "      <td>NaN</td>\n",
       "      <td>NaN</td>\n",
       "      <td>NaN</td>\n",
       "    </tr>\n",
       "  </tbody>\n",
       "</table>\n",
       "</div>"
      ],
      "text/plain": [
       "                      Car_Name      Price         Year  Seller   Km_Driven  \\\n",
       "count                     5946       5946  5946.000000    5946        5946   \n",
       "unique                    1997        749          NaN       3        1578   \n",
       "top     Maruti Swift Dzire VDI  4.5 Lakh*          NaN  Dealer  50,000 kms   \n",
       "freq                        66        137          NaN    3513         233   \n",
       "mean                       NaN        NaN  2014.513454     NaN         NaN   \n",
       "std                        NaN        NaN     3.158430     NaN         NaN   \n",
       "min                        NaN        NaN  1997.000000     NaN         NaN   \n",
       "25%                        NaN        NaN  2013.000000     NaN         NaN   \n",
       "50%                        NaN        NaN  2015.000000     NaN         NaN   \n",
       "75%                        NaN        NaN  2017.000000     NaN         NaN   \n",
       "max                        NaN        NaN  2020.000000     NaN         NaN   \n",
       "\n",
       "              Owner    Fuel Transmission           Mileage         Engine  \\\n",
       "count          5946    5946         5946              5905           5909   \n",
       "unique            1       5            2               453            134   \n",
       "top     First Owner  Diesel       Manual  Mileage18.9 kmpl  Engine1197 CC   \n",
       "freq           5946    2994         4713               162            791   \n",
       "mean            NaN     NaN          NaN               NaN            NaN   \n",
       "std             NaN     NaN          NaN               NaN            NaN   \n",
       "min             NaN     NaN          NaN               NaN            NaN   \n",
       "25%             NaN     NaN          NaN               NaN            NaN   \n",
       "50%             NaN     NaN          NaN               NaN            NaN   \n",
       "75%             NaN     NaN          NaN               NaN            NaN   \n",
       "max             NaN     NaN          NaN               NaN            NaN   \n",
       "\n",
       "              Max_Power Seating_Capacity  \n",
       "count              5839             5915  \n",
       "unique              378                8  \n",
       "top     Max Power74 bhp           Seats5  \n",
       "freq                268             4878  \n",
       "mean                NaN              NaN  \n",
       "std                 NaN              NaN  \n",
       "min                 NaN              NaN  \n",
       "25%                 NaN              NaN  \n",
       "50%                 NaN              NaN  \n",
       "75%                 NaN              NaN  \n",
       "max                 NaN              NaN  "
      ]
     },
     "execution_count": 4,
     "metadata": {},
     "output_type": "execute_result"
    }
   ],
   "source": [
    "df.describe(include='all')"
   ]
  },
  {
   "cell_type": "markdown",
   "id": "d60d73c5",
   "metadata": {},
   "source": [
    "## Data Cleaning"
   ]
  },
  {
   "cell_type": "markdown",
   "id": "abb60235",
   "metadata": {},
   "source": [
    "### Checking for null values"
   ]
  },
  {
   "cell_type": "code",
   "execution_count": 5,
   "id": "0fb1f091",
   "metadata": {},
   "outputs": [
    {
     "data": {
      "text/plain": [
       "<AxesSubplot:>"
      ]
     },
     "execution_count": 5,
     "metadata": {},
     "output_type": "execute_result"
    },
    {
     "data": {
      "image/png": "[encoded data removed]",
      "text/plain": [
       "<Figure size 432x288 with 2 Axes>"
      ]
     },
     "metadata": {
      "needs_background": "light"
     },
     "output_type": "display_data"
    }
   ],
   "source": [
    "sns.heatmap(df.isnull())"
   ]
  },
  {
   "cell_type": "markdown",
   "id": "4d5a300d",
   "metadata": {},
   "source": [
    "As we can see here, the columns mileage, engine, max_power, seating_capacity has the null values. Let's see in detail."
   ]
  },
  {
   "cell_type": "code",
   "execution_count": 6,
   "id": "0513b2f7",
   "metadata": {},
   "outputs": [
    {
     "data": {
      "text/plain": [
       "Car_Name              0\n",
       "Price                 0\n",
       "Year                  0\n",
       "Seller                0\n",
       "Km_Driven             0\n",
       "Owner                 0\n",
       "Fuel                  0\n",
       "Transmission          0\n",
       "Mileage              41\n",
       "Engine               37\n",
       "Max_Power           107\n",
       "Seating_Capacity     31\n",
       "dtype: int64"
      ]
     },
     "execution_count": 6,
     "metadata": {},
     "output_type": "execute_result"
    }
   ],
   "source": [
    "df.isnull().sum()"
   ]
  },
  {
   "cell_type": "markdown",
   "id": "a0f1371f",
   "metadata": {},
   "source": [
    "Now we can see that the total number of null values present in each column."
   ]
  },
  {
   "cell_type": "markdown",
   "id": "ef2ebeed",
   "metadata": {},
   "source": [
    "### Treating null values"
   ]
  },
  {
   "cell_type": "code",
   "execution_count": 7,
   "id": "00510f2f",
   "metadata": {},
   "outputs": [],
   "source": [
    "# the column max_power contain maximum number of null values\n",
    "# we can remove the null values.\n",
    "df.dropna(subset=['Mileage', 'Engine', 'Max_Power', 'Seating_Capacity'], inplace=True)"
   ]
  },
  {
   "cell_type": "code",
   "execution_count": 8,
   "id": "c9ce9494",
   "metadata": {},
   "outputs": [
    {
     "data": {
      "text/plain": [
       "Car_Name            0\n",
       "Price               0\n",
       "Year                0\n",
       "Seller              0\n",
       "Km_Driven           0\n",
       "Owner               0\n",
       "Fuel                0\n",
       "Transmission        0\n",
       "Mileage             0\n",
       "Engine              0\n",
       "Max_Power           0\n",
       "Seating_Capacity    0\n",
       "dtype: int64"
      ]
     },
     "execution_count": 8,
     "metadata": {},
     "output_type": "execute_result"
    }
   ],
   "source": [
    "df.isnull().sum()"
   ]
  },
  {
   "cell_type": "markdown",
   "id": "dbe1b464",
   "metadata": {},
   "source": [
    "### Independent variable"
   ]
  },
  {
   "cell_type": "code",
   "execution_count": 9,
   "id": "62b37f97",
   "metadata": {},
   "outputs": [],
   "source": [
    "# the column car_name is not important, so have to drop that column.\n",
    "df.drop('Car_Name', axis=1, inplace=True)"
   ]
  },
  {
   "cell_type": "code",
   "execution_count": 10,
   "id": "cc74b842",
   "metadata": {},
   "outputs": [],
   "source": [
    "# the column km_driven contain the string value kms in it, we have to remove that.\n",
    "df['Km_Driven'] = df['Km_Driven'].map(lambda x: str(x)[:-4])"
   ]
  },
  {
   "cell_type": "code",
   "execution_count": 11,
   "id": "56c8047c",
   "metadata": {},
   "outputs": [],
   "source": [
    "# in mileage column also we only want the numerical value\n",
    "df['Mileage'] = df['Mileage'].map(lambda x: str(x)[7:-6])"
   ]
  },
  {
   "cell_type": "code",
   "execution_count": 12,
   "id": "0779167d",
   "metadata": {},
   "outputs": [],
   "source": [
    "# in engine column also we only need the numerical value\n",
    "df['Engine'] = df['Engine'].map(lambda x: str(x)[6:-2])"
   ]
  },
  {
   "cell_type": "code",
   "execution_count": 13,
   "id": "8e514eee",
   "metadata": {},
   "outputs": [],
   "source": [
    "# in max_power column also we need only numerical column\n",
    "df['Max_Power'] = df['Max_Power'].map(lambda x: str(x)[9:-4])"
   ]
  },
  {
   "cell_type": "code",
   "execution_count": 14,
   "id": "d1f59a47",
   "metadata": {},
   "outputs": [],
   "source": [
    "# in seating capacity also we need only numerical column\n",
    "df['Seating_Capacity'] = df['Seating_Capacity'].map(lambda x: str(x)[5:])"
   ]
  },
  {
   "cell_type": "code",
   "execution_count": 16,
   "id": "d19453d9",
   "metadata": {},
   "outputs": [
    {
     "data": {
      "text/html": [
       "<div>\n",
       "<style scoped>\n",
       "    .dataframe tbody tr th:only-of-type {\n",
       "        vertical-align: middle;\n",
       "    }\n",
       "\n",
       "    .dataframe tbody tr th {\n",
       "        vertical-align: top;\n",
       "    }\n",
       "\n",
       "    .dataframe thead th {\n",
       "        text-align: right;\n",
       "    }\n",
       "</style>\n",
       "<table border=\"1\" class=\"dataframe\">\n",
       "  <thead>\n",
       "    <tr style=\"text-align: right;\">\n",
       "      <th></th>\n",
       "      <th>Price</th>\n",
       "      <th>Year</th>\n",
       "      <th>Seller</th>\n",
       "      <th>Km_Driven</th>\n",
       "      <th>Owner</th>\n",
       "      <th>Fuel</th>\n",
       "      <th>Transmission</th>\n",
       "      <th>Mileage</th>\n",
       "      <th>Engine</th>\n",
       "      <th>Max_Power</th>\n",
       "      <th>Seating_Capacity</th>\n",
       "    </tr>\n",
       "  </thead>\n",
       "  <tbody>\n",
       "    <tr>\n",
       "      <th>0</th>\n",
       "      <td>1.2 Lakh*</td>\n",
       "      <td>2012</td>\n",
       "      <td>Individual</td>\n",
       "      <td>1,20,000</td>\n",
       "      <td>First Owner</td>\n",
       "      <td>Petrol</td>\n",
       "      <td>Manual</td>\n",
       "      <td>19.</td>\n",
       "      <td>796</td>\n",
       "      <td>46.3</td>\n",
       "      <td>5</td>\n",
       "    </tr>\n",
       "    <tr>\n",
       "      <th>1</th>\n",
       "      <td>5.5 Lakh*</td>\n",
       "      <td>2016</td>\n",
       "      <td>Individual</td>\n",
       "      <td>20,000</td>\n",
       "      <td>First Owner</td>\n",
       "      <td>Petrol</td>\n",
       "      <td>Manual</td>\n",
       "      <td>18.</td>\n",
       "      <td>1197</td>\n",
       "      <td>82</td>\n",
       "      <td>5</td>\n",
       "    </tr>\n",
       "    <tr>\n",
       "      <th>2</th>\n",
       "      <td>2.15 Lakh*</td>\n",
       "      <td>2010</td>\n",
       "      <td>Individual</td>\n",
       "      <td>60,000</td>\n",
       "      <td>First Owner</td>\n",
       "      <td>Petrol</td>\n",
       "      <td>Manual</td>\n",
       "      <td>17.</td>\n",
       "      <td>1197</td>\n",
       "      <td>80</td>\n",
       "      <td>5</td>\n",
       "    </tr>\n",
       "    <tr>\n",
       "      <th>3</th>\n",
       "      <td>2.26 Lakh*</td>\n",
       "      <td>2012</td>\n",
       "      <td>Individual</td>\n",
       "      <td>37,000</td>\n",
       "      <td>First Owner</td>\n",
       "      <td>Petrol</td>\n",
       "      <td>Manual</td>\n",
       "      <td>20.9</td>\n",
       "      <td>998</td>\n",
       "      <td>67.1</td>\n",
       "      <td>5</td>\n",
       "    </tr>\n",
       "    <tr>\n",
       "      <th>4</th>\n",
       "      <td>5.7 Lakh*</td>\n",
       "      <td>2015</td>\n",
       "      <td>Dealer</td>\n",
       "      <td>30,000</td>\n",
       "      <td>First Owner</td>\n",
       "      <td>Diesel</td>\n",
       "      <td>Manual</td>\n",
       "      <td>22.7</td>\n",
       "      <td>1498</td>\n",
       "      <td>98.59</td>\n",
       "      <td>5</td>\n",
       "    </tr>\n",
       "  </tbody>\n",
       "</table>\n",
       "</div>"
      ],
      "text/plain": [
       "        Price  Year      Seller Km_Driven        Owner    Fuel Transmission  \\\n",
       "0   1.2 Lakh*  2012  Individual  1,20,000  First Owner  Petrol       Manual   \n",
       "1   5.5 Lakh*  2016  Individual    20,000  First Owner  Petrol       Manual   \n",
       "2  2.15 Lakh*  2010  Individual    60,000  First Owner  Petrol       Manual   \n",
       "3  2.26 Lakh*  2012  Individual    37,000  First Owner  Petrol       Manual   \n",
       "4   5.7 Lakh*  2015      Dealer    30,000  First Owner  Diesel       Manual   \n",
       "\n",
       "  Mileage Engine Max_Power Seating_Capacity  \n",
       "0     19.   796       46.3                5  \n",
       "1     18.  1197         82                5  \n",
       "2     17.  1197         80                5  \n",
       "3    20.9   998       67.1                5  \n",
       "4    22.7  1498      98.59                5  "
      ]
     },
     "execution_count": 16,
     "metadata": {},
     "output_type": "execute_result"
    }
   ],
   "source": [
    "df.head()"
   ]
  },
  {
   "cell_type": "markdown",
   "id": "3cca74d5",
   "metadata": {},
   "source": [
    "### independent variable"
   ]
  },
  {
   "cell_type": "code",
   "execution_count": 17,
   "id": "eb28aaab",
   "metadata": {},
   "outputs": [],
   "source": [
    "# in price column we have suffix(lakhs*), in place of this we have to give the total figure\n",
    "df['Price'] = df['Price'].map(lambda x: str(x)[:-6])"
   ]
  },
  {
   "cell_type": "code",
   "execution_count": 18,
   "id": "2251b7a0",
   "metadata": {},
   "outputs": [],
   "source": [
    "df.Price = df.Price.astype('float64')"
   ]
  },
  {
   "cell_type": "code",
   "execution_count": 19,
   "id": "34cd404f",
   "metadata": {},
   "outputs": [],
   "source": [
    "df['Price'] = df['Price'].apply(lambda x: x*100000)"
   ]
  },
  {
   "cell_type": "code",
   "execution_count": 20,
   "id": "de2c1903",
   "metadata": {},
   "outputs": [],
   "source": [
    "df.Price = df.Price.astype('int64')"
   ]
  },
  {
   "cell_type": "code",
   "execution_count": 21,
   "id": "510194f7",
   "metadata": {},
   "outputs": [
    {
     "data": {
      "text/html": [
       "<div>\n",
       "<style scoped>\n",
       "    .dataframe tbody tr th:only-of-type {\n",
       "        vertical-align: middle;\n",
       "    }\n",
       "\n",
       "    .dataframe tbody tr th {\n",
       "        vertical-align: top;\n",
       "    }\n",
       "\n",
       "    .dataframe thead th {\n",
       "        text-align: right;\n",
       "    }\n",
       "</style>\n",
       "<table border=\"1\" class=\"dataframe\">\n",
       "  <thead>\n",
       "    <tr style=\"text-align: right;\">\n",
       "      <th></th>\n",
       "      <th>Price</th>\n",
       "      <th>Year</th>\n",
       "      <th>Seller</th>\n",
       "      <th>Km_Driven</th>\n",
       "      <th>Owner</th>\n",
       "      <th>Fuel</th>\n",
       "      <th>Transmission</th>\n",
       "      <th>Mileage</th>\n",
       "      <th>Engine</th>\n",
       "      <th>Max_Power</th>\n",
       "      <th>Seating_Capacity</th>\n",
       "    </tr>\n",
       "  </thead>\n",
       "  <tbody>\n",
       "    <tr>\n",
       "      <th>0</th>\n",
       "      <td>120000</td>\n",
       "      <td>2012</td>\n",
       "      <td>Individual</td>\n",
       "      <td>1,20,000</td>\n",
       "      <td>First Owner</td>\n",
       "      <td>Petrol</td>\n",
       "      <td>Manual</td>\n",
       "      <td>19.</td>\n",
       "      <td>796</td>\n",
       "      <td>46.3</td>\n",
       "      <td>5</td>\n",
       "    </tr>\n",
       "    <tr>\n",
       "      <th>1</th>\n",
       "      <td>550000</td>\n",
       "      <td>2016</td>\n",
       "      <td>Individual</td>\n",
       "      <td>20,000</td>\n",
       "      <td>First Owner</td>\n",
       "      <td>Petrol</td>\n",
       "      <td>Manual</td>\n",
       "      <td>18.</td>\n",
       "      <td>1197</td>\n",
       "      <td>82</td>\n",
       "      <td>5</td>\n",
       "    </tr>\n",
       "    <tr>\n",
       "      <th>2</th>\n",
       "      <td>215000</td>\n",
       "      <td>2010</td>\n",
       "      <td>Individual</td>\n",
       "      <td>60,000</td>\n",
       "      <td>First Owner</td>\n",
       "      <td>Petrol</td>\n",
       "      <td>Manual</td>\n",
       "      <td>17.</td>\n",
       "      <td>1197</td>\n",
       "      <td>80</td>\n",
       "      <td>5</td>\n",
       "    </tr>\n",
       "    <tr>\n",
       "      <th>3</th>\n",
       "      <td>225999</td>\n",
       "      <td>2012</td>\n",
       "      <td>Individual</td>\n",
       "      <td>37,000</td>\n",
       "      <td>First Owner</td>\n",
       "      <td>Petrol</td>\n",
       "      <td>Manual</td>\n",
       "      <td>20.9</td>\n",
       "      <td>998</td>\n",
       "      <td>67.1</td>\n",
       "      <td>5</td>\n",
       "    </tr>\n",
       "    <tr>\n",
       "      <th>4</th>\n",
       "      <td>570000</td>\n",
       "      <td>2015</td>\n",
       "      <td>Dealer</td>\n",
       "      <td>30,000</td>\n",
       "      <td>First Owner</td>\n",
       "      <td>Diesel</td>\n",
       "      <td>Manual</td>\n",
       "      <td>22.7</td>\n",
       "      <td>1498</td>\n",
       "      <td>98.59</td>\n",
       "      <td>5</td>\n",
       "    </tr>\n",
       "  </tbody>\n",
       "</table>\n",
       "</div>"
      ],
      "text/plain": [
       "    Price  Year      Seller Km_Driven        Owner    Fuel Transmission  \\\n",
       "0  120000  2012  Individual  1,20,000  First Owner  Petrol       Manual   \n",
       "1  550000  2016  Individual    20,000  First Owner  Petrol       Manual   \n",
       "2  215000  2010  Individual    60,000  First Owner  Petrol       Manual   \n",
       "3  225999  2012  Individual    37,000  First Owner  Petrol       Manual   \n",
       "4  570000  2015      Dealer    30,000  First Owner  Diesel       Manual   \n",
       "\n",
       "  Mileage Engine Max_Power Seating_Capacity  \n",
       "0     19.   796       46.3                5  \n",
       "1     18.  1197         82                5  \n",
       "2     17.  1197         80                5  \n",
       "3    20.9   998       67.1                5  \n",
       "4    22.7  1498      98.59                5  "
      ]
     },
     "execution_count": 21,
     "metadata": {},
     "output_type": "execute_result"
    }
   ],
   "source": [
    "df.head()"
   ]
  },
  {
   "cell_type": "code",
   "execution_count": 22,
   "id": "f793f25b",
   "metadata": {},
   "outputs": [],
   "source": [
    "# As we can see in the dataset, there is a comma in the value of km_driven column.\n",
    "df['Km_Driven'] = df['Km_Driven'].apply(lambda x: x.replace(',',''))"
   ]
  },
  {
   "cell_type": "code",
   "execution_count": 23,
   "id": "6b5340e0",
   "metadata": {},
   "outputs": [
    {
     "data": {
      "text/html": [
       "<div>\n",
       "<style scoped>\n",
       "    .dataframe tbody tr th:only-of-type {\n",
       "        vertical-align: middle;\n",
       "    }\n",
       "\n",
       "    .dataframe tbody tr th {\n",
       "        vertical-align: top;\n",
       "    }\n",
       "\n",
       "    .dataframe thead th {\n",
       "        text-align: right;\n",
       "    }\n",
       "</style>\n",
       "<table border=\"1\" class=\"dataframe\">\n",
       "  <thead>\n",
       "    <tr style=\"text-align: right;\">\n",
       "      <th></th>\n",
       "      <th>Price</th>\n",
       "      <th>Year</th>\n",
       "      <th>Seller</th>\n",
       "      <th>Km_Driven</th>\n",
       "      <th>Owner</th>\n",
       "      <th>Fuel</th>\n",
       "      <th>Transmission</th>\n",
       "      <th>Mileage</th>\n",
       "      <th>Engine</th>\n",
       "      <th>Max_Power</th>\n",
       "      <th>Seating_Capacity</th>\n",
       "    </tr>\n",
       "  </thead>\n",
       "  <tbody>\n",
       "    <tr>\n",
       "      <th>0</th>\n",
       "      <td>120000</td>\n",
       "      <td>2012</td>\n",
       "      <td>Individual</td>\n",
       "      <td>120000</td>\n",
       "      <td>First Owner</td>\n",
       "      <td>Petrol</td>\n",
       "      <td>Manual</td>\n",
       "      <td>19.</td>\n",
       "      <td>796</td>\n",
       "      <td>46.3</td>\n",
       "      <td>5</td>\n",
       "    </tr>\n",
       "    <tr>\n",
       "      <th>1</th>\n",
       "      <td>550000</td>\n",
       "      <td>2016</td>\n",
       "      <td>Individual</td>\n",
       "      <td>20000</td>\n",
       "      <td>First Owner</td>\n",
       "      <td>Petrol</td>\n",
       "      <td>Manual</td>\n",
       "      <td>18.</td>\n",
       "      <td>1197</td>\n",
       "      <td>82</td>\n",
       "      <td>5</td>\n",
       "    </tr>\n",
       "    <tr>\n",
       "      <th>2</th>\n",
       "      <td>215000</td>\n",
       "      <td>2010</td>\n",
       "      <td>Individual</td>\n",
       "      <td>60000</td>\n",
       "      <td>First Owner</td>\n",
       "      <td>Petrol</td>\n",
       "      <td>Manual</td>\n",
       "      <td>17.</td>\n",
       "      <td>1197</td>\n",
       "      <td>80</td>\n",
       "      <td>5</td>\n",
       "    </tr>\n",
       "    <tr>\n",
       "      <th>3</th>\n",
       "      <td>225999</td>\n",
       "      <td>2012</td>\n",
       "      <td>Individual</td>\n",
       "      <td>37000</td>\n",
       "      <td>First Owner</td>\n",
       "      <td>Petrol</td>\n",
       "      <td>Manual</td>\n",
       "      <td>20.9</td>\n",
       "      <td>998</td>\n",
       "      <td>67.1</td>\n",
       "      <td>5</td>\n",
       "    </tr>\n",
       "    <tr>\n",
       "      <th>4</th>\n",
       "      <td>570000</td>\n",
       "      <td>2015</td>\n",
       "      <td>Dealer</td>\n",
       "      <td>30000</td>\n",
       "      <td>First Owner</td>\n",
       "      <td>Diesel</td>\n",
       "      <td>Manual</td>\n",
       "      <td>22.7</td>\n",
       "      <td>1498</td>\n",
       "      <td>98.59</td>\n",
       "      <td>5</td>\n",
       "    </tr>\n",
       "  </tbody>\n",
       "</table>\n",
       "</div>"
      ],
      "text/plain": [
       "    Price  Year      Seller Km_Driven        Owner    Fuel Transmission  \\\n",
       "0  120000  2012  Individual    120000  First Owner  Petrol       Manual   \n",
       "1  550000  2016  Individual     20000  First Owner  Petrol       Manual   \n",
       "2  215000  2010  Individual     60000  First Owner  Petrol       Manual   \n",
       "3  225999  2012  Individual     37000  First Owner  Petrol       Manual   \n",
       "4  570000  2015      Dealer     30000  First Owner  Diesel       Manual   \n",
       "\n",
       "  Mileage Engine Max_Power Seating_Capacity  \n",
       "0     19.   796       46.3                5  \n",
       "1     18.  1197         82                5  \n",
       "2     17.  1197         80                5  \n",
       "3    20.9   998       67.1                5  \n",
       "4    22.7  1498      98.59                5  "
      ]
     },
     "execution_count": 23,
     "metadata": {},
     "output_type": "execute_result"
    }
   ],
   "source": [
    "df.head()"
   ]
  },
  {
   "cell_type": "markdown",
   "id": "8dee2099",
   "metadata": {},
   "source": [
    "## EDA"
   ]
  },
  {
   "cell_type": "code",
   "execution_count": 24,
   "id": "76bb9f31",
   "metadata": {},
   "outputs": [
    {
     "data": {
      "text/plain": [
       "<AxesSubplot:xlabel='Price'>"
      ]
     },
     "execution_count": 24,
     "metadata": {},
     "output_type": "execute_result"
    },
    {
     "data": {
      "image/png": "[encoded data removed]",
      "text/plain": [
       "<Figure size 1080x576 with 1 Axes>"
      ]
     },
     "metadata": {
      "needs_background": "light"
     },
     "output_type": "display_data"
    }
   ],
   "source": [
    "# first let's have a look of our target column\n",
    "plt.subplots(figsize=(15,8))\n",
    "sns.distplot(df['Price'], kde=False)"
   ]
  },
  {
   "cell_type": "markdown",
   "id": "d1f3a69e",
   "metadata": {},
   "source": [
    "we can see here that around 1400 car has the price in between 500,000."
   ]
  },
  {
   "cell_type": "code",
   "execution_count": 25,
   "id": "9373ee06",
   "metadata": {},
   "outputs": [
    {
     "data": {
      "text/plain": [
       "<AxesSubplot:xlabel='Price', ylabel='Density'>"
      ]
     },
     "execution_count": 25,
     "metadata": {},
     "output_type": "execute_result"
    },
    {
     "data": {
      "image/png": "[encoded data removed]",
      "text/plain": [
       "<Figure size 1080x576 with 1 Axes>"
      ]
     },
     "metadata": {
      "needs_background": "light"
     },
     "output_type": "display_data"
    }
   ],
   "source": [
    "plt.subplots(figsize=(15,8))\n",
    "sns.distplot(df['Price'], hist=False)"
   ]
  },
  {
   "cell_type": "code",
   "execution_count": 26,
   "id": "6a506d5b",
   "metadata": {},
   "outputs": [
    {
     "data": {
      "text/plain": [
       "<AxesSubplot:xlabel='Fuel', ylabel='Price'>"
      ]
     },
     "execution_count": 26,
     "metadata": {},
     "output_type": "execute_result"
    },
    {
     "data": {
      "image/png": "[encoded data removed]",
      "text/plain": [
       "<Figure size 1080x576 with 1 Axes>"
      ]
     },
     "metadata": {
      "needs_background": "light"
     },
     "output_type": "display_data"
    }
   ],
   "source": [
    "# comparision of type of fuel used in a car with respect to its price.\n",
    "plt.subplots(figsize=(15,8))\n",
    "sns.boxplot(x=df['Fuel'], y=df['Price'])"
   ]
  },
  {
   "cell_type": "markdown",
   "id": "06bc9ef7",
   "metadata": {},
   "source": [
    "As, we thought diseal car would cost followed Petrol."
   ]
  },
  {
   "cell_type": "code",
   "execution_count": 27,
   "id": "52d94ee1",
   "metadata": {},
   "outputs": [
    {
     "data": {
      "text/plain": [
       "<AxesSubplot:xlabel='Year', ylabel='Price'>"
      ]
     },
     "execution_count": 27,
     "metadata": {},
     "output_type": "execute_result"
    },
    {
     "data": {
      "image/png": "[encoded data removed]",
      "text/plain": [
       "<Figure size 1080x576 with 1 Axes>"
      ]
     },
     "metadata": {
      "needs_background": "light"
     },
     "output_type": "display_data"
    }
   ],
   "source": [
    "# comparision of year with respect to its price.\n",
    "plt.subplots(figsize=(15,8))\n",
    "sns.boxplot(x=df['Year'], y=df['Price'])"
   ]
  },
  {
   "cell_type": "markdown",
   "id": "a5a9e016",
   "metadata": {},
   "source": [
    "Clearly, it's a strong tendency.\n",
    "\n",
    "Price of Newest is high compared to old models."
   ]
  },
  {
   "cell_type": "code",
   "execution_count": 28,
   "id": "7e0a835c",
   "metadata": {},
   "outputs": [
    {
     "data": {
      "text/plain": [
       "<AxesSubplot:xlabel='Seller', ylabel='Price'>"
      ]
     },
     "execution_count": 28,
     "metadata": {},
     "output_type": "execute_result"
    },
    {
     "data": {
      "image/png": "[encoded data removed]",
      "text/plain": [
       "<Figure size 720x360 with 1 Axes>"
      ]
     },
     "metadata": {
      "needs_background": "light"
     },
     "output_type": "display_data"
    }
   ],
   "source": [
    "# comparision of type of dealer with rescpect to the price of car\n",
    "plt.subplots(figsize=(10,5))\n",
    "sns.stripplot(x=df['Seller'], y=df['Price'])"
   ]
  },
  {
   "cell_type": "markdown",
   "id": "8afa0bab",
   "metadata": {},
   "source": [
    "The price given by dealer seller in high as compared to others."
   ]
  },
  {
   "cell_type": "code",
   "execution_count": 29,
   "id": "c0f61460",
   "metadata": {},
   "outputs": [
    {
     "data": {
      "text/plain": [
       "<AxesSubplot:xlabel='Transmission', ylabel='Price'>"
      ]
     },
     "execution_count": 29,
     "metadata": {},
     "output_type": "execute_result"
    },
    {
     "data": {
      "image/png": "[encoded data removed]",
      "text/plain": [
       "<Figure size 720x360 with 1 Axes>"
      ]
     },
     "metadata": {
      "needs_background": "light"
     },
     "output_type": "display_data"
    }
   ],
   "source": [
    "# comparision of type of tansmission with respect to the price of the car\n",
    "plt.subplots(figsize=(10,5))\n",
    "sns.stripplot(x=df['Transmission'], y=df['Price'])"
   ]
  },
  {
   "cell_type": "markdown",
   "id": "74d928c2",
   "metadata": {},
   "source": [
    "The automatic transmission type cars are more costly than manual transmission type."
   ]
  },
  {
   "cell_type": "code",
   "execution_count": 30,
   "id": "6dce91b8",
   "metadata": {},
   "outputs": [
    {
     "data": {
      "text/plain": [
       "array(['First Owner'], dtype=object)"
      ]
     },
     "execution_count": 30,
     "metadata": {},
     "output_type": "execute_result"
    }
   ],
   "source": [
    "df['Owner'].unique()"
   ]
  },
  {
   "cell_type": "markdown",
   "id": "6a39fa11",
   "metadata": {},
   "source": [
    "## Working with ctegorical data"
   ]
  },
  {
   "cell_type": "markdown",
   "id": "97a81ad6",
   "metadata": {},
   "source": [
    "As for now we have left with only 4 categorical features:\n",
    "\n",
    "    1.Seller\n",
    "    2.Fuel\n",
    "    3.Transmission\n",
    "    4.Owner"
   ]
  },
  {
   "cell_type": "markdown",
   "id": "d08c0d7e",
   "metadata": {},
   "source": [
    "For handeling categorical data. We mostly use these 2 technique:\n",
    "\n",
    "    1.OneHotEncoder\n",
    "    2.LabelEncoder\n",
    "\n",
    "Where OneHotEncoder is used where data are not in any order and LabelEncoder when data is in order.\n",
    "\n",
    "So, for each Features we will use plots to find out what to be used there."
   ]
  },
  {
   "cell_type": "markdown",
   "id": "a4b0d448",
   "metadata": {},
   "source": [
    "#### Working for seller column"
   ]
  },
  {
   "cell_type": "code",
   "execution_count": 31,
   "id": "efa3de8e",
   "metadata": {},
   "outputs": [
    {
     "data": {
      "text/plain": [
       "Dealer              3434\n",
       "Individual          2327\n",
       "Trustmark Dealer      51\n",
       "Name: Seller, dtype: int64"
      ]
     },
     "execution_count": 31,
     "metadata": {},
     "output_type": "execute_result"
    }
   ],
   "source": [
    "df['Seller'].value_counts()"
   ]
  },
  {
   "cell_type": "markdown",
   "id": "8cc02845",
   "metadata": {},
   "source": [
    "We will be using One-hot-encoding here"
   ]
  },
  {
   "cell_type": "code",
   "execution_count": 32,
   "id": "b95640ff",
   "metadata": {},
   "outputs": [
    {
     "data": {
      "text/html": [
       "<div>\n",
       "<style scoped>\n",
       "    .dataframe tbody tr th:only-of-type {\n",
       "        vertical-align: middle;\n",
       "    }\n",
       "\n",
       "    .dataframe tbody tr th {\n",
       "        vertical-align: top;\n",
       "    }\n",
       "\n",
       "    .dataframe thead th {\n",
       "        text-align: right;\n",
       "    }\n",
       "</style>\n",
       "<table border=\"1\" class=\"dataframe\">\n",
       "  <thead>\n",
       "    <tr style=\"text-align: right;\">\n",
       "      <th></th>\n",
       "      <th>Dealer</th>\n",
       "      <th>Individual</th>\n",
       "      <th>Trustmark Dealer</th>\n",
       "    </tr>\n",
       "  </thead>\n",
       "  <tbody>\n",
       "    <tr>\n",
       "      <th>0</th>\n",
       "      <td>0</td>\n",
       "      <td>1</td>\n",
       "      <td>0</td>\n",
       "    </tr>\n",
       "    <tr>\n",
       "      <th>1</th>\n",
       "      <td>0</td>\n",
       "      <td>1</td>\n",
       "      <td>0</td>\n",
       "    </tr>\n",
       "    <tr>\n",
       "      <th>2</th>\n",
       "      <td>0</td>\n",
       "      <td>1</td>\n",
       "      <td>0</td>\n",
       "    </tr>\n",
       "    <tr>\n",
       "      <th>3</th>\n",
       "      <td>0</td>\n",
       "      <td>1</td>\n",
       "      <td>0</td>\n",
       "    </tr>\n",
       "    <tr>\n",
       "      <th>4</th>\n",
       "      <td>1</td>\n",
       "      <td>0</td>\n",
       "      <td>0</td>\n",
       "    </tr>\n",
       "  </tbody>\n",
       "</table>\n",
       "</div>"
      ],
      "text/plain": [
       "   Dealer  Individual  Trustmark Dealer\n",
       "0       0           1                 0\n",
       "1       0           1                 0\n",
       "2       0           1                 0\n",
       "3       0           1                 0\n",
       "4       1           0                 0"
      ]
     },
     "execution_count": 32,
     "metadata": {},
     "output_type": "execute_result"
    }
   ],
   "source": [
    "Seller = df['Seller']\n",
    "Seller = pd.get_dummies(Seller)\n",
    "Seller.head()"
   ]
  },
  {
   "cell_type": "markdown",
   "id": "fc7e530e",
   "metadata": {},
   "source": [
    "#### Woking for fuel column"
   ]
  },
  {
   "cell_type": "code",
   "execution_count": 33,
   "id": "1768a3c1",
   "metadata": {},
   "outputs": [
    {
     "data": {
      "text/plain": [
       "Diesel      2924\n",
       "Petrol      2755\n",
       "CNG          115\n",
       "LPG           17\n",
       "Electric       1\n",
       "Name: Fuel, dtype: int64"
      ]
     },
     "execution_count": 33,
     "metadata": {},
     "output_type": "execute_result"
    }
   ],
   "source": [
    "df['Fuel'].value_counts()"
   ]
  },
  {
   "cell_type": "code",
   "execution_count": 34,
   "id": "6b2275e3",
   "metadata": {},
   "outputs": [
    {
     "data": {
      "text/html": [
       "<div>\n",
       "<style scoped>\n",
       "    .dataframe tbody tr th:only-of-type {\n",
       "        vertical-align: middle;\n",
       "    }\n",
       "\n",
       "    .dataframe tbody tr th {\n",
       "        vertical-align: top;\n",
       "    }\n",
       "\n",
       "    .dataframe thead th {\n",
       "        text-align: right;\n",
       "    }\n",
       "</style>\n",
       "<table border=\"1\" class=\"dataframe\">\n",
       "  <thead>\n",
       "    <tr style=\"text-align: right;\">\n",
       "      <th></th>\n",
       "      <th>CNG</th>\n",
       "      <th>Diesel</th>\n",
       "      <th>Electric</th>\n",
       "      <th>LPG</th>\n",
       "      <th>Petrol</th>\n",
       "    </tr>\n",
       "  </thead>\n",
       "  <tbody>\n",
       "    <tr>\n",
       "      <th>0</th>\n",
       "      <td>0</td>\n",
       "      <td>0</td>\n",
       "      <td>0</td>\n",
       "      <td>0</td>\n",
       "      <td>1</td>\n",
       "    </tr>\n",
       "    <tr>\n",
       "      <th>1</th>\n",
       "      <td>0</td>\n",
       "      <td>0</td>\n",
       "      <td>0</td>\n",
       "      <td>0</td>\n",
       "      <td>1</td>\n",
       "    </tr>\n",
       "    <tr>\n",
       "      <th>2</th>\n",
       "      <td>0</td>\n",
       "      <td>0</td>\n",
       "      <td>0</td>\n",
       "      <td>0</td>\n",
       "      <td>1</td>\n",
       "    </tr>\n",
       "    <tr>\n",
       "      <th>3</th>\n",
       "      <td>0</td>\n",
       "      <td>0</td>\n",
       "      <td>0</td>\n",
       "      <td>0</td>\n",
       "      <td>1</td>\n",
       "    </tr>\n",
       "    <tr>\n",
       "      <th>4</th>\n",
       "      <td>0</td>\n",
       "      <td>1</td>\n",
       "      <td>0</td>\n",
       "      <td>0</td>\n",
       "      <td>0</td>\n",
       "    </tr>\n",
       "  </tbody>\n",
       "</table>\n",
       "</div>"
      ],
      "text/plain": [
       "   CNG  Diesel  Electric  LPG  Petrol\n",
       "0    0       0         0    0       1\n",
       "1    0       0         0    0       1\n",
       "2    0       0         0    0       1\n",
       "3    0       0         0    0       1\n",
       "4    0       1         0    0       0"
      ]
     },
     "execution_count": 34,
     "metadata": {},
     "output_type": "execute_result"
    }
   ],
   "source": [
    "Fuel = df['Fuel']\n",
    "Fuel = pd.get_dummies(Fuel)\n",
    "Fuel.head()"
   ]
  },
  {
   "cell_type": "markdown",
   "id": "818c4863",
   "metadata": {},
   "source": [
    "#### Working with transmission"
   ]
  },
  {
   "cell_type": "code",
   "execution_count": 35,
   "id": "14c78d98",
   "metadata": {},
   "outputs": [
    {
     "data": {
      "text/plain": [
       "Manual       4611\n",
       "Automatic    1201\n",
       "Name: Transmission, dtype: int64"
      ]
     },
     "execution_count": 35,
     "metadata": {},
     "output_type": "execute_result"
    }
   ],
   "source": [
    "df['Transmission'].value_counts()"
   ]
  },
  {
   "cell_type": "code",
   "execution_count": 36,
   "id": "11677b98",
   "metadata": {},
   "outputs": [
    {
     "data": {
      "text/html": [
       "<div>\n",
       "<style scoped>\n",
       "    .dataframe tbody tr th:only-of-type {\n",
       "        vertical-align: middle;\n",
       "    }\n",
       "\n",
       "    .dataframe tbody tr th {\n",
       "        vertical-align: top;\n",
       "    }\n",
       "\n",
       "    .dataframe thead th {\n",
       "        text-align: right;\n",
       "    }\n",
       "</style>\n",
       "<table border=\"1\" class=\"dataframe\">\n",
       "  <thead>\n",
       "    <tr style=\"text-align: right;\">\n",
       "      <th></th>\n",
       "      <th>Automatic</th>\n",
       "      <th>Manual</th>\n",
       "    </tr>\n",
       "  </thead>\n",
       "  <tbody>\n",
       "    <tr>\n",
       "      <th>0</th>\n",
       "      <td>0</td>\n",
       "      <td>1</td>\n",
       "    </tr>\n",
       "    <tr>\n",
       "      <th>1</th>\n",
       "      <td>0</td>\n",
       "      <td>1</td>\n",
       "    </tr>\n",
       "    <tr>\n",
       "      <th>2</th>\n",
       "      <td>0</td>\n",
       "      <td>1</td>\n",
       "    </tr>\n",
       "    <tr>\n",
       "      <th>3</th>\n",
       "      <td>0</td>\n",
       "      <td>1</td>\n",
       "    </tr>\n",
       "    <tr>\n",
       "      <th>4</th>\n",
       "      <td>0</td>\n",
       "      <td>1</td>\n",
       "    </tr>\n",
       "  </tbody>\n",
       "</table>\n",
       "</div>"
      ],
      "text/plain": [
       "   Automatic  Manual\n",
       "0          0       1\n",
       "1          0       1\n",
       "2          0       1\n",
       "3          0       1\n",
       "4          0       1"
      ]
     },
     "execution_count": 36,
     "metadata": {},
     "output_type": "execute_result"
    }
   ],
   "source": [
    "Transmission = df['Transmission']\n",
    "Transmission = pd.get_dummies(Transmission)\n",
    "Transmission.head()"
   ]
  },
  {
   "cell_type": "markdown",
   "id": "5df3a8af",
   "metadata": {},
   "source": [
    "#### Working with Owner"
   ]
  },
  {
   "cell_type": "code",
   "execution_count": 37,
   "id": "0786d122",
   "metadata": {},
   "outputs": [
    {
     "data": {
      "text/plain": [
       "First Owner    5812\n",
       "Name: Owner, dtype: int64"
      ]
     },
     "execution_count": 37,
     "metadata": {},
     "output_type": "execute_result"
    }
   ],
   "source": [
    "df['Owner'].value_counts()"
   ]
  },
  {
   "cell_type": "markdown",
   "id": "790ec8e9",
   "metadata": {},
   "source": [
    "As we can see here the owner column contain only a single value. we should better delete it"
   ]
  },
  {
   "cell_type": "code",
   "execution_count": 38,
   "id": "5e427469",
   "metadata": {},
   "outputs": [],
   "source": [
    "df.drop('Owner', axis=1, inplace=True)"
   ]
  },
  {
   "cell_type": "markdown",
   "id": "628ad542",
   "metadata": {},
   "source": [
    "As we have converted our all categorical data.So now we will delete that column and concat the converted column."
   ]
  },
  {
   "cell_type": "code",
   "execution_count": 39,
   "id": "f1d5bf8d",
   "metadata": {},
   "outputs": [],
   "source": [
    "# deleting the column which we don't require\n",
    "df.drop(['Transmission', 'Fuel', 'Seller'], axis=1, inplace=True)"
   ]
  },
  {
   "cell_type": "code",
   "execution_count": 40,
   "id": "cb237287",
   "metadata": {},
   "outputs": [
    {
     "data": {
      "text/html": [
       "<div>\n",
       "<style scoped>\n",
       "    .dataframe tbody tr th:only-of-type {\n",
       "        vertical-align: middle;\n",
       "    }\n",
       "\n",
       "    .dataframe tbody tr th {\n",
       "        vertical-align: top;\n",
       "    }\n",
       "\n",
       "    .dataframe thead th {\n",
       "        text-align: right;\n",
       "    }\n",
       "</style>\n",
       "<table border=\"1\" class=\"dataframe\">\n",
       "  <thead>\n",
       "    <tr style=\"text-align: right;\">\n",
       "      <th></th>\n",
       "      <th>Price</th>\n",
       "      <th>Year</th>\n",
       "      <th>Km_Driven</th>\n",
       "      <th>Mileage</th>\n",
       "      <th>Engine</th>\n",
       "      <th>Max_Power</th>\n",
       "      <th>Seating_Capacity</th>\n",
       "      <th>Dealer</th>\n",
       "      <th>Individual</th>\n",
       "      <th>Trustmark Dealer</th>\n",
       "      <th>CNG</th>\n",
       "      <th>Diesel</th>\n",
       "      <th>Electric</th>\n",
       "      <th>LPG</th>\n",
       "      <th>Petrol</th>\n",
       "      <th>Automatic</th>\n",
       "      <th>Manual</th>\n",
       "    </tr>\n",
       "  </thead>\n",
       "  <tbody>\n",
       "    <tr>\n",
       "      <th>0</th>\n",
       "      <td>120000</td>\n",
       "      <td>2012</td>\n",
       "      <td>120000</td>\n",
       "      <td>19.</td>\n",
       "      <td>796</td>\n",
       "      <td>46.3</td>\n",
       "      <td>5</td>\n",
       "      <td>0</td>\n",
       "      <td>1</td>\n",
       "      <td>0</td>\n",
       "      <td>0</td>\n",
       "      <td>0</td>\n",
       "      <td>0</td>\n",
       "      <td>0</td>\n",
       "      <td>1</td>\n",
       "      <td>0</td>\n",
       "      <td>1</td>\n",
       "    </tr>\n",
       "    <tr>\n",
       "      <th>1</th>\n",
       "      <td>550000</td>\n",
       "      <td>2016</td>\n",
       "      <td>20000</td>\n",
       "      <td>18.</td>\n",
       "      <td>1197</td>\n",
       "      <td>82</td>\n",
       "      <td>5</td>\n",
       "      <td>0</td>\n",
       "      <td>1</td>\n",
       "      <td>0</td>\n",
       "      <td>0</td>\n",
       "      <td>0</td>\n",
       "      <td>0</td>\n",
       "      <td>0</td>\n",
       "      <td>1</td>\n",
       "      <td>0</td>\n",
       "      <td>1</td>\n",
       "    </tr>\n",
       "    <tr>\n",
       "      <th>2</th>\n",
       "      <td>215000</td>\n",
       "      <td>2010</td>\n",
       "      <td>60000</td>\n",
       "      <td>17.</td>\n",
       "      <td>1197</td>\n",
       "      <td>80</td>\n",
       "      <td>5</td>\n",
       "      <td>0</td>\n",
       "      <td>1</td>\n",
       "      <td>0</td>\n",
       "      <td>0</td>\n",
       "      <td>0</td>\n",
       "      <td>0</td>\n",
       "      <td>0</td>\n",
       "      <td>1</td>\n",
       "      <td>0</td>\n",
       "      <td>1</td>\n",
       "    </tr>\n",
       "    <tr>\n",
       "      <th>3</th>\n",
       "      <td>225999</td>\n",
       "      <td>2012</td>\n",
       "      <td>37000</td>\n",
       "      <td>20.9</td>\n",
       "      <td>998</td>\n",
       "      <td>67.1</td>\n",
       "      <td>5</td>\n",
       "      <td>0</td>\n",
       "      <td>1</td>\n",
       "      <td>0</td>\n",
       "      <td>0</td>\n",
       "      <td>0</td>\n",
       "      <td>0</td>\n",
       "      <td>0</td>\n",
       "      <td>1</td>\n",
       "      <td>0</td>\n",
       "      <td>1</td>\n",
       "    </tr>\n",
       "    <tr>\n",
       "      <th>4</th>\n",
       "      <td>570000</td>\n",
       "      <td>2015</td>\n",
       "      <td>30000</td>\n",
       "      <td>22.7</td>\n",
       "      <td>1498</td>\n",
       "      <td>98.59</td>\n",
       "      <td>5</td>\n",
       "      <td>1</td>\n",
       "      <td>0</td>\n",
       "      <td>0</td>\n",
       "      <td>0</td>\n",
       "      <td>1</td>\n",
       "      <td>0</td>\n",
       "      <td>0</td>\n",
       "      <td>0</td>\n",
       "      <td>0</td>\n",
       "      <td>1</td>\n",
       "    </tr>\n",
       "  </tbody>\n",
       "</table>\n",
       "</div>"
      ],
      "text/plain": [
       "    Price  Year Km_Driven Mileage Engine Max_Power Seating_Capacity  Dealer  \\\n",
       "0  120000  2012    120000     19.   796       46.3                5       0   \n",
       "1  550000  2016     20000     18.  1197         82                5       0   \n",
       "2  215000  2010     60000     17.  1197         80                5       0   \n",
       "3  225999  2012     37000    20.9   998       67.1                5       0   \n",
       "4  570000  2015     30000    22.7  1498      98.59                5       1   \n",
       "\n",
       "   Individual  Trustmark Dealer  CNG  Diesel  Electric  LPG  Petrol  \\\n",
       "0           1                 0    0       0         0    0       1   \n",
       "1           1                 0    0       0         0    0       1   \n",
       "2           1                 0    0       0         0    0       1   \n",
       "3           1                 0    0       0         0    0       1   \n",
       "4           0                 0    0       1         0    0       0   \n",
       "\n",
       "   Automatic  Manual  \n",
       "0          0       1  \n",
       "1          0       1  \n",
       "2          0       1  \n",
       "3          0       1  \n",
       "4          0       1  "
      ]
     },
     "execution_count": 40,
     "metadata": {},
     "output_type": "execute_result"
    }
   ],
   "source": [
    "# Now we concat the converted column\n",
    "final_df= pd.concat([df,Seller,Fuel,Transmission],axis=1)\n",
    "final_df.head()"
   ]
  },
  {
   "cell_type": "markdown",
   "id": "ace06e12",
   "metadata": {},
   "source": [
    "## Model Development"
   ]
  },
  {
   "cell_type": "code",
   "execution_count": 41,
   "id": "701e63fa",
   "metadata": {},
   "outputs": [],
   "source": [
    "x = final_df.drop('Price', axis=1)\n",
    "y = final_df['Price']"
   ]
  },
  {
   "cell_type": "code",
   "execution_count": 42,
   "id": "0ea7823f",
   "metadata": {},
   "outputs": [],
   "source": [
    "from sklearn.model_selection import train_test_split\n",
    "x_train, x_test, y_train, y_test = train_test_split(x, y, test_size=0.4, random_state=101)"
   ]
  },
  {
   "cell_type": "code",
   "execution_count": 48,
   "id": "e23e3086",
   "metadata": {},
   "outputs": [],
   "source": [
    "from sklearn.linear_model import LinearRegression\n",
    "from sklearn.linear_model import ElasticNet\n",
    "from sklearn.ensemble import AdaBoostRegressor\n",
    "from sklearn.tree import DecisionTreeRegressor\n",
    "from sklearn.ensemble import RandomForestRegressor\n",
    "from sklearn import metrics"
   ]
  },
  {
   "cell_type": "code",
   "execution_count": 49,
   "id": "20aef871",
   "metadata": {},
   "outputs": [
    {
     "name": "stdout",
     "output_type": "stream",
     "text": [
      "R2: 0.6696897868815199\n",
      "MAE: 252369.55476074282\n",
      "MSE: 190317205725.36508\n",
      "RMSE: 436253.6025356869\n"
     ]
    },
    {
     "data": {
      "image/png": "[encoded data removed]",
      "text/plain": [
       "<Figure size 432x288 with 1 Axes>"
      ]
     },
     "metadata": {
      "needs_background": "light"
     },
     "output_type": "display_data"
    }
   ],
   "source": [
    "lr=LinearRegression()\n",
    "lr.fit(x_train,y_train)\n",
    "predlr=lr.predict(x_test)\n",
    "sns.scatterplot(y_test,predlr)\n",
    "plt.xlabel(\"Y-Test\")\n",
    "plt.ylabel(\"Predicted Values\")\n",
    "print('R2: {}'.format(metrics.r2_score(y_test, predlr)))\n",
    "print('MAE: {}'.format(metrics.mean_absolute_error(y_test, predlr)))\n",
    "print('MSE: {}'.format(metrics.mean_squared_error(y_test, predlr)))\n",
    "print('RMSE: {}'.format(np.sqrt(metrics.mean_squared_error(y_test, predlr))))"
   ]
  },
  {
   "cell_type": "code",
   "execution_count": 50,
   "id": "11af2980",
   "metadata": {},
   "outputs": [
    {
     "name": "stdout",
     "output_type": "stream",
     "text": [
      "R Square: 0.7863913298853191\n",
      "MAE: 155162.3652329749\n",
      "MSE: 123076440268.45535\n",
      "RMSE: 350822.51961419947\n"
     ]
    },
    {
     "data": {
      "image/png": "[encoded data removed]",
      "text/plain": [
       "<Figure size 432x288 with 1 Axes>"
      ]
     },
     "metadata": {
      "needs_background": "light"
     },
     "output_type": "display_data"
    }
   ],
   "source": [
    "dtr = DecisionTreeRegressor()\n",
    "dtr.fit(x_train, y_train)\n",
    "preddtr = dtr.predict(x_test)\n",
    "sns.scatterplot(y_test, preddtr)\n",
    "plt.xlabel('Y-test')\n",
    "plt.ylabel('Predicted Values')\n",
    "print('R Square: {}'.format(metrics.r2_score(y_test, preddtr)))\n",
    "print('MAE: {}'.format(metrics.mean_absolute_error(y_test, preddtr)))\n",
    "print('MSE: {}'.format(metrics.mean_squared_error(y_test, preddtr)))\n",
    "print('RMSE: {}'.format(np.sqrt(metrics.mean_squared_error(y_test, preddtr))))"
   ]
  },
  {
   "cell_type": "code",
   "execution_count": 51,
   "id": "699e3b05",
   "metadata": {},
   "outputs": [
    {
     "name": "stdout",
     "output_type": "stream",
     "text": [
      "R Square: 0.8596842455190059\n",
      "MAE: 119464.93887656597\n",
      "MSE: 80846735134.07361\n",
      "RMSE: 284335.6030012309\n"
     ]
    },
    {
     "data": {
      "image/png": "[encoded data removed]",
      "text/plain": [
       "<Figure size 432x288 with 1 Axes>"
      ]
     },
     "metadata": {
      "needs_background": "light"
     },
     "output_type": "display_data"
    }
   ],
   "source": [
    "rfr = RandomForestRegressor()\n",
    "rfr.fit(x_train, y_train)\n",
    "predrfr = rfr.predict(x_test)\n",
    "sns.scatterplot(y_test, predrfr)\n",
    "plt.xlabel('Y-test')\n",
    "plt.ylabel('Predicted Values')\n",
    "print('R Square: {}'.format(metrics.r2_score(y_test, predrfr)))\n",
    "print('MAE: {}'.format(metrics.mean_absolute_error(y_test, predrfr)))\n",
    "print('MSE: {}'.format(metrics.mean_squared_error(y_test, predrfr)))\n",
    "print('RMSE: {}'.format(np.sqrt(metrics.mean_squared_error(y_test, predrfr))))"
   ]
  },
  {
   "cell_type": "code",
   "execution_count": 52,
   "id": "2504c866",
   "metadata": {},
   "outputs": [
    {
     "name": "stdout",
     "output_type": "stream",
     "text": [
      "R Square: 0.6656081911658694\n",
      "MAE: 252233.4556629146\n",
      "MSE: 192668928017.47775\n",
      "RMSE: 438940.68849615403\n"
     ]
    },
    {
     "data": {
      "image/png": "[encoded data removed]",
      "text/plain": [
       "<Figure size 432x288 with 1 Axes>"
      ]
     },
     "metadata": {
      "needs_background": "light"
     },
     "output_type": "display_data"
    }
   ],
   "source": [
    "en = ElasticNet() \n",
    "en.fit(x_train, y_train)\n",
    "preden = en.predict(x_test)\n",
    "sns.scatterplot(y_test, preden)\n",
    "plt.xlabel('Y-test')\n",
    "plt.ylabel('Predicted Values')\n",
    "print('R Square: {}'.format(metrics.r2_score(y_test, preden)))\n",
    "print('MAE: {}'.format(metrics.mean_absolute_error(y_test, preden)))\n",
    "print('MSE: {}'.format(metrics.mean_squared_error(y_test, preden)))\n",
    "print('RMSE: {}'.format(np.sqrt(metrics.mean_squared_error(y_test, preden))))"
   ]
  },
  {
   "cell_type": "code",
   "execution_count": 53,
   "id": "6c2c4886",
   "metadata": {},
   "outputs": [
    {
     "name": "stdout",
     "output_type": "stream",
     "text": [
      "R Square: 0.6015773180196289\n",
      "MAE: 382546.0224383545\n",
      "MSE: 229562055669.50317\n",
      "RMSE: 479126.3462485685\n"
     ]
    },
    {
     "data": {
      "image/png": "[encoded data removed]",
      "text/plain": [
       "<Figure size 432x288 with 1 Axes>"
      ]
     },
     "metadata": {
      "needs_background": "light"
     },
     "output_type": "display_data"
    }
   ],
   "source": [
    "ada = AdaBoostRegressor()\n",
    "ada.fit(x_train, y_train)\n",
    "predada = ada.predict(x_test)\n",
    "sns.scatterplot(y_test, predada)\n",
    "plt.xlabel('Y-test')\n",
    "plt.ylabel('Predicted Values')\n",
    "print('R Square: {}'.format(metrics.r2_score(y_test, predada)))\n",
    "print('MAE: {}'.format(metrics.mean_absolute_error(y_test, predada)))\n",
    "print('MSE: {}'.format(metrics.mean_squared_error(y_test, predada)))\n",
    "print('RMSE: {}'.format(np.sqrt(metrics.mean_squared_error(y_test, predada))))"
   ]
  },
  {
   "cell_type": "markdown",
   "id": "201f97e4",
   "metadata": {},
   "source": [
    "Here we can see that our RandomForestRegressor performs well as it has the most lowest metric scores among all the three model and higher r2_score"
   ]
  },
  {
   "cell_type": "markdown",
   "id": "f35e9395",
   "metadata": {},
   "source": [
    "### Performing cross validation"
   ]
  },
  {
   "cell_type": "code",
   "execution_count": 56,
   "id": "e92d23ad",
   "metadata": {},
   "outputs": [],
   "source": [
    "from sklearn.model_selection import cross_val_score"
   ]
  },
  {
   "cell_type": "code",
   "execution_count": 57,
   "id": "5415e254",
   "metadata": {},
   "outputs": [
    {
     "name": "stdout",
     "output_type": "stream",
     "text": [
      "Cross validation score for Linear Regression: 0.6640629718209934\n"
     ]
    }
   ],
   "source": [
    "scr = cross_val_score(lr, x, y, cv=5, scoring='r2')\n",
    "print(\"Cross validation score for Linear Regression:\", scr.mean())"
   ]
  },
  {
   "cell_type": "code",
   "execution_count": 58,
   "id": "64cc4993",
   "metadata": {},
   "outputs": [
    {
     "name": "stdout",
     "output_type": "stream",
     "text": [
      "Cross validation score for Decision Tree Regressor: 0.8240760653056514\n"
     ]
    }
   ],
   "source": [
    "scr = cross_val_score(dtr, x, y, cv=5, scoring='r2')\n",
    "print(\"Cross validation score for Decision Tree Regressor:\", scr.mean())"
   ]
  },
  {
   "cell_type": "code",
   "execution_count": 59,
   "id": "a1e7f2da",
   "metadata": {},
   "outputs": [
    {
     "name": "stdout",
     "output_type": "stream",
     "text": [
      "Cross validation score for Random Forest Regressor: 0.8859533099201489\n"
     ]
    }
   ],
   "source": [
    "scr = cross_val_score(rfr, x, y, cv=5, scoring='r2')\n",
    "print(\"Cross validation score for Random Forest Regressor:\", scr.mean())"
   ]
  },
  {
   "cell_type": "code",
   "execution_count": 60,
   "id": "a18273c4",
   "metadata": {},
   "outputs": [
    {
     "name": "stdout",
     "output_type": "stream",
     "text": [
      "Cross validation score for Random Forest Regressor: 0.6597024947048588\n"
     ]
    }
   ],
   "source": [
    "scr = cross_val_score(en, x, y, cv=5, scoring='r2')\n",
    "print(\"Cross validation score for Random Forest Regressor:\", scr.mean())"
   ]
  },
  {
   "cell_type": "code",
   "execution_count": 61,
   "id": "1c6316e3",
   "metadata": {},
   "outputs": [
    {
     "name": "stdout",
     "output_type": "stream",
     "text": [
      "Cross validation score for Random Forest Regressor: 0.6992207817767278\n"
     ]
    }
   ],
   "source": [
    "scr = cross_val_score(ada, x, y, cv=5, scoring='r2')\n",
    "print(\"Cross validation score for Random Forest Regressor:\", scr.mean())"
   ]
  },
  {
   "cell_type": "markdown",
   "id": "f7690d99",
   "metadata": {},
   "source": [
    "In cross validation our Random Forest Regressor performs well, so we will select RandomForestRegressor for HyperParameter Tuning."
   ]
  },
  {
   "cell_type": "markdown",
   "id": "120bce42",
   "metadata": {},
   "source": [
    "### Hyperparameter tuning"
   ]
  },
  {
   "cell_type": "code",
   "execution_count": 62,
   "id": "dd1b97f9",
   "metadata": {},
   "outputs": [],
   "source": [
    "n_estimators = [int(x) for x in np.linspace(start = 100, stop = 500, num = 12)]\n",
    "max_features = ['auto', 'sqrt']\n",
    "max_depth = [int(x) for x in np.linspace(5, 20, num = 6)]\n",
    "min_samples_split = [2, 5, 10, 15]\n",
    "min_samples_leaf = [1, 2, 5, 10]\n",
    "\n",
    "random_grid = {'n_estimators': n_estimators,\n",
    "               'max_features': max_features,\n",
    "               'max_depth': max_depth,\n",
    "               'min_samples_leaf': min_samples_leaf}"
   ]
  },
  {
   "cell_type": "code",
   "execution_count": 63,
   "id": "1cb4a828",
   "metadata": {},
   "outputs": [],
   "source": [
    "from sklearn.model_selection import GridSearchCV"
   ]
  },
  {
   "cell_type": "code",
   "execution_count": 64,
   "id": "c364d133",
   "metadata": {},
   "outputs": [
    {
     "data": {
      "text/plain": [
       "GridSearchCV(cv=5, estimator=RandomForestRegressor(),\n",
       "             param_grid={'max_depth': [5, 8, 11, 14, 17, 20],\n",
       "                         'max_features': ['auto', 'sqrt'],\n",
       "                         'min_samples_leaf': [1, 2, 5, 10],\n",
       "                         'n_estimators': [100, 136, 172, 209, 245, 281, 318,\n",
       "                                          354, 390, 427, 463, 500]})"
      ]
     },
     "execution_count": 64,
     "metadata": {},
     "output_type": "execute_result"
    }
   ],
   "source": [
    "GCV = GridSearchCV(RandomForestRegressor(), random_grid, cv=5)\n",
    "GCV.fit(x_train, y_train)"
   ]
  },
  {
   "cell_type": "code",
   "execution_count": 65,
   "id": "1b62395c",
   "metadata": {},
   "outputs": [
    {
     "data": {
      "text/plain": [
       "{'max_depth': 14,\n",
       " 'max_features': 'auto',\n",
       " 'min_samples_leaf': 1,\n",
       " 'n_estimators': 318}"
      ]
     },
     "execution_count": 65,
     "metadata": {},
     "output_type": "execute_result"
    }
   ],
   "source": [
    "GCV.best_params_"
   ]
  },
  {
   "cell_type": "code",
   "execution_count": 66,
   "id": "f271e0ef",
   "metadata": {},
   "outputs": [
    {
     "name": "stdout",
     "output_type": "stream",
     "text": [
      "R square: 0.8628274386802265\n"
     ]
    }
   ],
   "source": [
    "rfrGCV = RandomForestRegressor(max_depth=14, max_features='auto', min_samples_leaf=1, n_estimators=318)\n",
    "rfrGCV.fit(x_train, y_train)\n",
    "predGCV = rfrGCV.predict(x_test)\n",
    "print('R square:', metrics.r2_score(y_test, predGCV))"
   ]
  },
  {
   "cell_type": "markdown",
   "id": "98699752",
   "metadata": {},
   "source": [
    "### Checking how much our predictions are correct "
   ]
  },
  {
   "cell_type": "code",
   "execution_count": 67,
   "id": "7d55f6de",
   "metadata": {},
   "outputs": [],
   "source": [
    "prediction = pd.DataFrame({\"Predictions\":predGCV, \"Real Value\":y_test})"
   ]
  },
  {
   "cell_type": "code",
   "execution_count": 68,
   "id": "6bd55987",
   "metadata": {},
   "outputs": [
    {
     "data": {
      "text/html": [
       "<div>\n",
       "<style scoped>\n",
       "    .dataframe tbody tr th:only-of-type {\n",
       "        vertical-align: middle;\n",
       "    }\n",
       "\n",
       "    .dataframe tbody tr th {\n",
       "        vertical-align: top;\n",
       "    }\n",
       "\n",
       "    .dataframe thead th {\n",
       "        text-align: right;\n",
       "    }\n",
       "</style>\n",
       "<table border=\"1\" class=\"dataframe\">\n",
       "  <thead>\n",
       "    <tr style=\"text-align: right;\">\n",
       "      <th></th>\n",
       "      <th>Predictions</th>\n",
       "      <th>Real Value</th>\n",
       "    </tr>\n",
       "  </thead>\n",
       "  <tbody>\n",
       "    <tr>\n",
       "      <th>5674</th>\n",
       "      <td>1547474.74</td>\n",
       "      <td>1500000</td>\n",
       "    </tr>\n",
       "    <tr>\n",
       "      <th>4199</th>\n",
       "      <td>798785.87</td>\n",
       "      <td>799000</td>\n",
       "    </tr>\n",
       "    <tr>\n",
       "      <th>3564</th>\n",
       "      <td>697233.81</td>\n",
       "      <td>755000</td>\n",
       "    </tr>\n",
       "    <tr>\n",
       "      <th>868</th>\n",
       "      <td>378952.34</td>\n",
       "      <td>350000</td>\n",
       "    </tr>\n",
       "    <tr>\n",
       "      <th>5800</th>\n",
       "      <td>2701738.19</td>\n",
       "      <td>3300000</td>\n",
       "    </tr>\n",
       "    <tr>\n",
       "      <th>...</th>\n",
       "      <td>...</td>\n",
       "      <td>...</td>\n",
       "    </tr>\n",
       "    <tr>\n",
       "      <th>4446</th>\n",
       "      <td>259152.48</td>\n",
       "      <td>250000</td>\n",
       "    </tr>\n",
       "    <tr>\n",
       "      <th>4553</th>\n",
       "      <td>576959.85</td>\n",
       "      <td>565000</td>\n",
       "    </tr>\n",
       "    <tr>\n",
       "      <th>4657</th>\n",
       "      <td>960514.70</td>\n",
       "      <td>1000000</td>\n",
       "    </tr>\n",
       "    <tr>\n",
       "      <th>181</th>\n",
       "      <td>1254228.07</td>\n",
       "      <td>1275000</td>\n",
       "    </tr>\n",
       "    <tr>\n",
       "      <th>140</th>\n",
       "      <td>513801.44</td>\n",
       "      <td>200000</td>\n",
       "    </tr>\n",
       "  </tbody>\n",
       "</table>\n",
       "<p>2325 rows × 2 columns</p>\n",
       "</div>"
      ],
      "text/plain": [
       "      Predictions  Real Value\n",
       "5674   1547474.74     1500000\n",
       "4199    798785.87      799000\n",
       "3564    697233.81      755000\n",
       "868     378952.34      350000\n",
       "5800   2701738.19     3300000\n",
       "...           ...         ...\n",
       "4446    259152.48      250000\n",
       "4553    576959.85      565000\n",
       "4657    960514.70     1000000\n",
       "181    1254228.07     1275000\n",
       "140     513801.44      200000\n",
       "\n",
       "[2325 rows x 2 columns]"
      ]
     },
     "execution_count": 68,
     "metadata": {},
     "output_type": "execute_result"
    }
   ],
   "source": [
    "prediction.round(2)"
   ]
  },
  {
   "cell_type": "code",
   "execution_count": null,
   "id": "07ef66f9",
   "metadata": {},
   "outputs": [],
   "source": []
  }
 ],
 "metadata": {
  "kernelspec": {
   "display_name": "Python 3",
   "language": "python",
   "name": "python3"
  },
  "language_info": {
   "codemirror_mode": {
    "name": "ipython",
    "version": 3
   },
   "file_extension": ".py",
   "mimetype": "text/x-python",
   "name": "python",
   "nbconvert_exporter": "python",
   "pygments_lexer": "ipython3",
   "version": "3.8.8"
  }
 },
 "nbformat": 4,
 "nbformat_minor": 5
}
